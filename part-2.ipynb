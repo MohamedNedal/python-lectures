{
 "cells": [
  {
   "cell_type": "markdown",
   "metadata": {},
   "source": [
    "# Part 2: NetCDF and self-describing datasets"
   ]
  },
  {
   "cell_type": "markdown",
   "metadata": {},
   "source": [
    "![](img/satellites.gif)\n",
    "\n",
    "The main satellites that we'll talk about today:\n",
    "* GOES-R/GOES-16 and GOES-S/GOES-17 with the ABI instrument\n",
    "* Suomi-NPP with the VIIRS instrument"
   ]
  },
  {
   "cell_type": "markdown",
   "metadata": {},
   "source": [
    "We're in the golden age of sallite datasets, which is a blessing and a curse:\n",
    "\n",
    "* Inundated with datasets, don't know which ones to use\n",
    "* No single repository for access of the data\n",
    "* Inconsistent formatting and filetypes\n",
    "\n",
    "netCDF4 and HDF5 are the dominant formats used in satellite remote sensing (but others do exist)"
   ]
  },
  {
   "cell_type": "markdown",
   "metadata": {},
   "source": [
    "## netCDF Primer\n",
    "* Hosted by the Unidata program at the University Corporation for Atmospheric Research (UCAR)\n",
    "* NetCDF (Network Common Data Form) a set of software libraries and self-describing, machine-independent data formats\n",
    "* Support the creation, access, and sharing of array-oriented scientific data"
   ]
  },
  {
   "cell_type": "markdown",
   "metadata": {},
   "source": [
    "Advantages: \n",
    "* Open source and free\n",
    "* Provides standard formatting for earth science data\n",
    "* Compression helps with long term file storage\n",
    "* Includes additional metadata\n",
    "\n",
    "Disadvantages: \n",
    "* There is a steeper learning curve for working with self-describing file formats"
   ]
  },
  {
   "cell_type": "markdown",
   "metadata": {},
   "source": [
    "## Panoply\n",
    "![](img/Picture1.png)\n",
    "* Pronounced: Pan-OH-plee\n",
    "* A netCDF, HDF, KMZ, and GRIB data viewer\n",
    "* Free/Open source for Mac, Windows, Linux\n",
    "* Developed and maintained by Dr. Robert B. Schmunk of NASA/GISS\n",
    "\n",
    "Other display tools: \n",
    "* Free: HDFView, QGIS, Explorer series\n",
    "* Not free: ENVI/IDL, MATLAB, ArcMap"
   ]
  },
  {
   "cell_type": "markdown",
   "metadata": {},
   "source": [
    "## Inspecting ABI files\n",
    "\n",
    "Run Panoply\n",
    "\n",
    "Navigate to the following file:\n",
    "![](img/filename.png)"
   ]
  },
  {
   "cell_type": "markdown",
   "metadata": {},
   "source": [
    "When you open the file you will see something like this:\n",
    "![](img/pano-filelist.png)\n",
    "\n"
   ]
  },
  {
   "cell_type": "markdown",
   "metadata": {},
   "source": [
    "## Importing netCDF files\n",
    "The netCDF4 package is included in Anaconda Python. The main function is Dataset, which reads from an existing file:\n",
    "```\n",
    "file_id = Dataset(\"test.nc\", \"r\", format=\"NETCDF4\")\n",
    "```\n",
    "You can choose to 'w' (write), 'r' (read), or 'a'\n",
    "\n",
    "The foramts can be: NETCDF3_CLASSIC, NETCDF3_64BIT_OFFSET, NETCDF3_64BIT_DATA, NETCDF4_CLASSIC, and NETCDF4 (default)"
   ]
  },
  {
   "cell_type": "markdown",
   "metadata": {},
   "source": [
    "![](img/Picture2.png)"
   ]
  },
  {
   "cell_type": "markdown",
   "metadata": {},
   "source": [
    "![](img/Picture3.png)\n"
   ]
  },
  {
   "cell_type": "code",
   "execution_count": 1,
   "metadata": {},
   "outputs": [],
   "source": [
    "from netCDF4 import Dataset"
   ]
  },
  {
   "cell_type": "code",
   "execution_count": 22,
   "metadata": {},
   "outputs": [],
   "source": [
    "# To open the files, call the Dataset constructor\n",
    "fname='data/JRR-AOD_v1r1_npp_s201808091957192_e201808091958434_c201808092051240.nc'\n",
    "file_id = Dataset(fname)"
   ]
  },
  {
   "cell_type": "code",
   "execution_count": 23,
   "metadata": {},
   "outputs": [
    {
     "data": {
      "text/plain": [
       "['Latitude',\n",
       " 'Longitude',\n",
       " 'StartRow',\n",
       " 'StartColumn',\n",
       " 'AOD550',\n",
       " 'AOD_channel',\n",
       " 'AngsExp1',\n",
       " 'AngsExp2',\n",
       " 'QCPath',\n",
       " 'AerMdl',\n",
       " 'FineMdlIdx',\n",
       " 'CoarseMdlIdx',\n",
       " 'FineModWgt',\n",
       " 'SfcRefl',\n",
       " 'SpaStddev',\n",
       " 'Residual',\n",
       " 'AOD550LndMdl',\n",
       " 'ResLndMdl',\n",
       " 'MeanAOD',\n",
       " 'HighQualityPct',\n",
       " 'RetrievalPct',\n",
       " 'QCRet',\n",
       " 'QCExtn',\n",
       " 'QCTest',\n",
       " 'QCInput',\n",
       " 'QCAll']"
      ]
     },
     "execution_count": 23,
     "metadata": {},
     "output_type": "execute_result"
    }
   ],
   "source": [
    "# Quickly inspect the contents\n",
    "list(file_id.variables.keys())"
   ]
  },
  {
   "cell_type": "code",
   "execution_count": 28,
   "metadata": {},
   "outputs": [],
   "source": [
    "# Copy the AOD variable and the latitude and longitude coordinates into arrays object using .variables\n",
    "AOD550 = file_id.variables['AOD550']"
   ]
  },
  {
   "cell_type": "code",
   "execution_count": 29,
   "metadata": {},
   "outputs": [
    {
     "data": {
      "text/plain": [
       "['long_name', 'coordinates', 'units', '_FillValue', 'valid_range']"
      ]
     },
     "execution_count": 29,
     "metadata": {},
     "output_type": "execute_result"
    }
   ],
   "source": [
    "# Inspect attributes using .ncattrs command\n",
    "file_id.variables['AOD550'].ncattrs()"
   ]
  },
  {
   "cell_type": "code",
   "execution_count": 30,
   "metadata": {},
   "outputs": [
    {
     "name": "stdout",
     "output_type": "stream",
     "text": [
      "0.633283 0.422585 1761764\n"
     ]
    }
   ],
   "source": [
    "# Get some very simple statistics by converting into a NumPy array\n",
    "import numpy as np\n",
    "\n",
    "AOD550 = np.array(AOD550)\n",
    "\n",
    "# Remove missing values\n",
    "missing = file_id.variables['AOD550']._FillValue\n",
    "keepRows = AOD550 != missing\n",
    "AOD550 = AOD550[keepRows]\n",
    "\n",
    "avgAOD = AOD550.mean()\n",
    "stdDev = AOD550.std()\n",
    "nAOD = AOD550.size\n",
    "\n",
    "print(avgAOD, stdDev, nAOD)"
   ]
  },
  {
   "cell_type": "code",
   "execution_count": null,
   "metadata": {},
   "outputs": [],
   "source": [
    "# Tip: netcdf4 Automatically created a masked array where fill values are masked.\n",
    "# If you want to suppress this, use the following option:\n",
    "AOD.set_auto_mask(False)"
   ]
  },
  {
   "cell_type": "code",
   "execution_count": 31,
   "metadata": {},
   "outputs": [],
   "source": [
    "# Close the file when you're done\n",
    "file_id.close()"
   ]
  },
  {
   "cell_type": "markdown",
   "metadata": {},
   "source": [
    "<div class=\"alert alert-block alert-info\">\n",
    "\n",
    "# Exercise 1\n",
    "\n",
    "## Import netCDF file\n",
    "From the data folder, import \"JRR-AOD_v1r1_npp_s201808091957192_e201808091958434_c201808092051240\" using the Dataset command from the netcdf4 package.\n",
    "\n",
    "## Inspect the list of variables\n",
    "Get a list of variables after the file has been opening.\n",
    "\n",
    "## Inspect the attributes of a given variable\n",
    "What are the attributes of the QCAll variable?\n",
    "\n",
    "</div>"
   ]
  },
  {
   "cell_type": "markdown",
   "metadata": {},
   "source": [
    "## Importing HDF files\n",
    "\n",
    "Very similar process to netCDF. Looking at the mean monthly AOD for August, 2018 using the Deep Blue AOD retrieval (output from Panoply below)\n",
    "\n",
    "![](img/db.png)"
   ]
  },
  {
   "cell_type": "code",
   "execution_count": 15,
   "metadata": {},
   "outputs": [],
   "source": [
    "import h5py"
   ]
  },
  {
   "cell_type": "code",
   "execution_count": 38,
   "metadata": {},
   "outputs": [],
   "source": [
    "# Open the file\n",
    "fname='data/DeepBlue-SeaWiFS-1.0_L3M_201008_v004-20130604T140615Z.h5'\n",
    "file_id_DB = h5py.File(fname, 'r')"
   ]
  },
  {
   "cell_type": "code",
   "execution_count": 75,
   "metadata": {},
   "outputs": [
    {
     "data": {
      "text/plain": [
       "['aerosol_optical_thickness_550_count_land',\n",
       " 'aerosol_optical_thickness_550_count_land_ocean',\n",
       " 'aerosol_optical_thickness_550_count_ocean',\n",
       " 'aerosol_optical_thickness_550_land',\n",
       " 'aerosol_optical_thickness_550_land_ocean',\n",
       " 'aerosol_optical_thickness_550_ocean',\n",
       " 'aerosol_optical_thickness_550_stddev_land',\n",
       " 'aerosol_optical_thickness_550_stddev_land_ocean',\n",
       " 'aerosol_optical_thickness_550_stddev_ocean',\n",
       " 'aerosol_optical_thickness_count_land',\n",
       " 'aerosol_optical_thickness_count_ocean',\n",
       " 'aerosol_optical_thickness_land',\n",
       " 'aerosol_optical_thickness_ocean',\n",
       " 'aerosol_optical_thickness_stddev_land',\n",
       " 'aerosol_optical_thickness_stddev_ocean',\n",
       " 'angstrom_exponent_count_land',\n",
       " 'angstrom_exponent_count_land_ocean',\n",
       " 'angstrom_exponent_count_ocean',\n",
       " 'angstrom_exponent_land',\n",
       " 'angstrom_exponent_land_ocean',\n",
       " 'angstrom_exponent_ocean',\n",
       " 'angstrom_exponent_stddev_land',\n",
       " 'angstrom_exponent_stddev_land_ocean',\n",
       " 'angstrom_exponent_stddev_ocean',\n",
       " 'diagnostics',\n",
       " 'land_bands',\n",
       " 'latitude',\n",
       " 'longitude',\n",
       " 'ocean_bands',\n",
       " 'relative_azimuth_angle',\n",
       " 'scattering_angle',\n",
       " 'solar_zenith_angle',\n",
       " 'viewing_zenith_angle']"
      ]
     },
     "execution_count": 75,
     "metadata": {},
     "output_type": "execute_result"
    }
   ],
   "source": [
    "# Quickly inspect the contents...\n",
    "list(file_id_DB.keys())"
   ]
  },
  {
   "cell_type": "code",
   "execution_count": 71,
   "metadata": {},
   "outputs": [
    {
     "data": {
      "text/plain": [
       "0.020318512"
      ]
     },
     "execution_count": 71,
     "metadata": {},
     "output_type": "execute_result"
    }
   ],
   "source": [
    "# Import the data...\n",
    "AOD = file_id_DB['aerosol_optical_thickness_550_land_ocean']\n",
    "\n",
    "# Check a value...\n",
    "AOD[60, 300]"
   ]
  },
  {
   "cell_type": "code",
   "execution_count": 69,
   "metadata": {},
   "outputs": [
    {
     "data": {
      "text/plain": [
       "['long_name',\n",
       " 'standard_name',\n",
       " 'units',\n",
       " 'comment',\n",
       " '_FillValue',\n",
       " 'valid_range',\n",
       " 'DIMENSION_LIST']"
      ]
     },
     "execution_count": 69,
     "metadata": {},
     "output_type": "execute_result"
    }
   ],
   "source": [
    "list(AOD.attrs)"
   ]
  },
  {
   "cell_type": "code",
   "execution_count": 68,
   "metadata": {},
   "outputs": [
    {
     "data": {
      "text/plain": [
       "b'aerosol optical thickness estimated at 550 nm over land and ocean'"
      ]
     },
     "execution_count": 68,
     "metadata": {},
     "output_type": "execute_result"
    }
   ],
   "source": [
    "# To view the attribute\n",
    "AOD.attrs['long_name']"
   ]
  },
  {
   "cell_type": "markdown",
   "metadata": {},
   "source": [
    "## Other formats:\n",
    "* GRIB/GRIB2: World Meteorology Association standard format, e.g. commonly used with weather-related models like ECMWF and GFS. Can be opened using [pygrib](https://github.com/jswhit/pygrib)\n",
    "* BUFR: Another common model format. Open with [python-bufr](https://github.com/pytroll/python-bufr), part of the pytroll project."
   ]
  },
  {
   "cell_type": "markdown",
   "metadata": {},
   "source": [
    "## Resources\n",
    "\n",
    "Searchable satellite data:\n",
    "* NOAA CLASS: https://www.avl.class.noaa.gov\n",
    "* NASA MIRDOR: https://mirador.gsfc.nasa.gov\n",
    "* EUMETSAT: https://www.eumetsat.int/website/home/Data/DataDelivery/OnlineDataAccess/index.html\n",
    "\n",
    "Other channels\n",
    "* Amazon Web Services has GOES-16 radiance, Landsat, MODIS, and more https://registry.opendata.aws/?search=earth%20observation\n",
    "* python-AWIPS: https://python-awips.readthedocs.io/en/latest/ Has a good repository of atmospheric datasets\n",
    "* [Python Satellite Data Analysis Toolkit (pysat)](https://github.com/rstoneback) Can pull space science related datasets (e.g. COSMIC-1) "
   ]
  },
  {
   "cell_type": "code",
   "execution_count": null,
   "metadata": {},
   "outputs": [],
   "source": []
  }
 ],
 "metadata": {
  "kernelspec": {
   "display_name": "Python 3",
   "language": "python",
   "name": "python3"
  },
  "language_info": {
   "codemirror_mode": {
    "name": "ipython",
    "version": 3
   },
   "file_extension": ".py",
   "mimetype": "text/x-python",
   "name": "python",
   "nbconvert_exporter": "python",
   "pygments_lexer": "ipython3",
   "version": "3.7.0"
  }
 },
 "nbformat": 4,
 "nbformat_minor": 2
}
