{
 "cells": [
  {
   "cell_type": "markdown",
   "metadata": {},
   "source": [
    "# Visualization: NetCDF and self-describing datasets\n",
    "\n",
    "\n",
    "Rebekah Esmaili (Science and Technology Corp.)\n",
    "\n",
    "[rebekah.esmaili@gmail.com](mailto:rebekah.esmaili@gmail.com)\n",
    "\n",
    "Code, Data, and Installation Guide: [https://ter.ps/noaapy](https://ter.ps/noaapy)"
   ]
  },
  {
   "cell_type": "markdown",
   "metadata": {},
   "source": [
    "## Agenda\n",
    "\n",
    "1. Why Python?\n",
    "2. Inspecting files using panoply\n",
    "4. importing files with Python\n",
    "5. Downloading and accessing datasets"
   ]
  },
  {
   "attachments": {},
   "cell_type": "markdown",
   "metadata": {},
   "source": [
    "## netCDF4 Primer\n",
    "* Hosted by the Unidata program at the University Corporation for Atmospheric Research (UCAR)\n",
    "* NetCDF (Network Common Data Form) a set of software libraries and self-describing, machine-independent data formats\n",
    "* Support the creation, access, and sharing of array-oriented scientific data"
   ]
  },
  {
   "cell_type": "markdown",
   "metadata": {},
   "source": [
    "Advantages: \n",
    "* Open source and free\n",
    "* Provides standard formatting for earth science data\n",
    "* Compression helps with long term file storage\n",
    "\n",
    "Disadvantages: \n",
    "* There is a steeper learning curve for working with self-describing file formats\n"
   ]
  },
  {
   "attachments": {},
   "cell_type": "markdown",
   "metadata": {},
   "source": [
    "## Panoply\n",
    "![](img/Picture1.png)\n",
    "* Pronounced: Pan-OH-plee\n",
    "* A netCDF, HDF, KMZ, and GRIB data viewer\n",
    "* Free/Open source for Mac, Windows, Linux\n",
    "* Developed and maintained by Dr. Robert B. Schmunk of NASA/GISS\n",
    "\n",
    "Other display tools: \n",
    "* Free: HDFView, QGIS, Explorer series\n",
    "* Not free: ENVI/IDL, MATLAB, ArcMap"
   ]
  },
  {
   "cell_type": "markdown",
   "metadata": {},
   "source": [
    "## Inspecting ABI files\n",
    "\n",
    "Run Panoply\n",
    "\n",
    "Navigate to the following file:\n",
    "![](img/filename.png)"
   ]
  },
  {
   "cell_type": "markdown",
   "metadata": {},
   "source": [
    "When you open the file you will see something like this:\n",
    "![](img/pano-filelist.png)\n",
    "\n"
   ]
  },
  {
   "cell_type": "markdown",
   "metadata": {},
   "source": [
    "## Importing into Python\n",
    "The netCDF4 package is included in Anaconda Python. The main function is Dataset, which reads from an existing file:\n",
    "```\n",
    "file_id = Dataset(\"test.nc\", \"r\", format=\"NETCDF4\")\n",
    "```\n",
    "You can choose to 'w' (write), 'r' (read), or 'a'\n",
    "\n",
    "The foramts can be: NETCDF3_CLASSIC, NETCDF3_64BIT_OFFSET, NETCDF3_64BIT_DATA, NETCDF4_CLASSIC, and NETCDF4 (default)"
   ]
  },
  {
   "cell_type": "markdown",
   "metadata": {},
   "source": [
    "![](img/Picture2.png)"
   ]
  },
  {
   "cell_type": "markdown",
   "metadata": {},
   "source": [
    "![](img/Picture3.png)\n"
   ]
  },
  {
   "cell_type": "code",
   "execution_count": null,
   "metadata": {},
   "outputs": [],
   "source": [
    "from netCDF4 import Dataset"
   ]
  },
  {
   "cell_type": "code",
   "execution_count": null,
   "metadata": {},
   "outputs": [],
   "source": [
    "# Import your data...\n",
    "fname='data/JRR-AOD_v1r1_npp_s201808091957192_e201808091958434_c201808092051240.nc'\n",
    "file_id_NPP = Dataset(fname)\n",
    "\n",
    "# Print a list of variables\n",
    "list(file_id_NPP.variables.keys())"
   ]
  },
  {
   "cell_type": "markdown",
   "metadata": {},
   "source": [
    "## Finding datasets\n",
    "\n",
    "Omnibus of available satellite data:\n",
    "* NOAA CLASS: https://www.avl.class.noaa.gov\n",
    "* NASA MIRDOR: https://mirador.gsfc.nasa.gov\n",
    "* EUMETSAT: https://www.eumetsat.int/website/home/Data/DataDelivery/OnlineDataAccess/index.html\n",
    "\n",
    "Unofficial channels\n",
    "* Amazon Web Services has GOES-16 radiance, Landsat, MODIS, and more https://registry.opendata.aws/?search=earth%20observation\n",
    "* python-AWIPS (more on this later): https://python-awips.readthedocs.io/en/latest/"
   ]
  },
  {
   "cell_type": "code",
   "execution_count": null,
   "metadata": {},
   "outputs": [],
   "source": []
  }
 ],
 "metadata": {
  "kernelspec": {
   "display_name": "Python 3",
   "language": "python",
   "name": "python3"
  },
  "language_info": {
   "codemirror_mode": {
    "name": "ipython",
    "version": 3
   },
   "file_extension": ".py",
   "mimetype": "text/x-python",
   "name": "python",
   "nbconvert_exporter": "python",
   "pygments_lexer": "ipython3",
   "version": "3.5.6"
  }
 },
 "nbformat": 4,
 "nbformat_minor": 2
}
