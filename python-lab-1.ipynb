{
 "cells": [
  {
   "cell_type": "markdown",
   "metadata": {
    "slideshow": {
     "slide_type": "slide"
    }
   },
   "source": [
    "# <center> Python Lesson 1: Introduction to Jupyter Notebooks, Analysis, and Plotting </center>\n",
    "![](img/day1.jpg)"
   ]
  },
  {
   "cell_type": "markdown",
   "metadata": {
    "slideshow": {
     "slide_type": "slide"
    }
   },
   "source": [
    "## Agenda\n",
    "\n",
    "1. Why Python?\n",
    "2. Objectives\n",
    "3. Setting up your development environment\n",
    "4. Reading and writing tabular data with the NumPy package\n",
    "5. Encapsulating data with the Pandas package\n",
    "6. Plotting with the Matplotlib package\n",
    "7. Importing and inspecting NetCDF files"
   ]
  },
  {
   "cell_type": "markdown",
   "metadata": {
    "slideshow": {
     "slide_type": "slide"
    }
   },
   "source": [
    "## Why Python?\n",
    "\n",
    "Pros\n",
    "* General-purpose, cross-platform\n",
    "* Free and open source\n",
    "* Resaonably easy to learn, good statistical and visualization packages/modules\n",
    "* Forces good syntax\n",
    "* Reads satellite data formats like HDF, NetCDF, GRIB\n",
    "\n",
    "Cons\n",
    "* Performance penalties for interpretted languages\n",
    "* Libraries are a \"black box\" and can be discontinued"
   ]
  },
  {
   "cell_type": "markdown",
   "metadata": {
    "slideshow": {
     "slide_type": "slide"
    }
   },
   "source": [
    "## Objective: working with satellite datasets\n",
    "\n",
    "* You won't learn how to code in Python\n",
    "* You will learn to:\n",
    "\t* Read/write ascii data\n",
    "\t* Basic plotting and visualization\n",
    "\t* Perform data filtering"
   ]
  },
  {
   "cell_type": "markdown",
   "metadata": {
    "slideshow": {
     "slide_type": "slide"
    }
   },
   "source": [
    "Python is an interpretted language, so you as minimum you need to have Python on your computer.\n",
    "\n",
    "## What is Anaconda?\n",
    "* Anaconda is a package manager\n",
    "* Comes bundled with Python, a lot of useful scientific/mathematical packages, and development environments.\n",
    "* Easiest place to start if you new\n",
    "\n",
    "## Development environments\n",
    "* Spyder: most Matlab-like\n",
    "* Jupyter notebooks: web based. Similar to Mathematica, runs code inlin\n",
    "* Text editor + run with command line for scripting."
   ]
  },
  {
   "cell_type": "markdown",
   "metadata": {
    "slideshow": {
     "slide_type": "slide"
    }
   },
   "source": [
    "## Launching Jupyter Notebook\n",
    "You need *Anaconda Python* installed! You can also [install with pip](http://jupyter.org/install.html), but you're on your own.\n",
    "\n",
    "### Mac\n",
    "* Open Anaconda Navigator and click on Jupyter Notebook\n",
    "\n",
    "### Linux\n",
    "* Optional: Open terminal, and type:\n",
    "```\n",
    "jupyter notebook    \n",
    "```\n",
    "\n",
    "### Windows\n",
    "* Open Anaconda Prompt\n",
    "```\n",
    "cd to\\the\\directory\\\n",
    "jupyter notebook    \n",
    "```\n",
    "... or double click the icon:\n",
    "![](img/jupyter.png)"
   ]
  },
  {
   "cell_type": "markdown",
   "metadata": {
    "slideshow": {
     "slide_type": "slide"
    }
   },
   "source": [
    "## Launching Jupyter Notebook\n",
    "\n",
    "This will launch your default web browser with a local webserver that displays the contents of the directory that you're working in. \n",
    "\n",
    "Click on New on the top right:\n",
    "\n",
    "![](img/jn-screenshot.png)"
   ]
  },
  {
   "cell_type": "markdown",
   "metadata": {
    "slideshow": {
     "slide_type": "slide"
    }
   },
   "source": [
    "<div class=\"alert alert-block alert-info\">\n",
    "\n",
    "# Exercise 1\n",
    "\n",
    "## Set-up your environment\n",
    "* For your opertating system, launch Jupyter Notebooks\n",
    "\n",
    "## Create a notebook\n",
    "* Create a new notebook\n",
    "* Change the name from \"untitled\" to something better\n",
    "* Save in the same directory as the data folder that we provided (or move the data directory to the same place at the file because we'll need it later!).\n",
    "\n",
    "</div>"
   ]
  },
  {
   "cell_type": "code",
   "execution_count": null,
   "metadata": {
    "slideshow": {
     "slide_type": "subslide"
    }
   },
   "outputs": [],
   "source": [
    "# This is a comment\n",
    "print(\"hello world\")"
   ]
  },
  {
   "cell_type": "code",
   "execution_count": null,
   "metadata": {
    "slideshow": {
     "slide_type": "subslide"
    }
   },
   "outputs": [],
   "source": [
    "# This is an array\n",
    "test=[1, 2, 3, 4]"
   ]
  },
  {
   "cell_type": "code",
   "execution_count": null,
   "metadata": {
    "slideshow": {
     "slide_type": "subslide"
    }
   },
   "outputs": [],
   "source": [
    "# This will show me the array\n",
    "print(test)"
   ]
  },
  {
   "cell_type": "code",
   "execution_count": null,
   "metadata": {
    "slideshow": {
     "slide_type": "subslide"
    }
   },
   "outputs": [],
   "source": [
    "# So will this\n",
    "test"
   ]
  },
  {
   "cell_type": "code",
   "execution_count": null,
   "metadata": {
    "slideshow": {
     "slide_type": "subslide"
    }
   },
   "outputs": [],
   "source": [
    "# This is a function (note the TAB!)\n",
    "def Farenheit2Celsius(F):\n",
    "    return (F-32)*5/9\n",
    "\n",
    "# This calls the function\n",
    "Farenheit2Celsius(32)"
   ]
  },
  {
   "cell_type": "markdown",
   "metadata": {
    "slideshow": {
     "slide_type": "slide"
    }
   },
   "source": [
    "## Importing Packages\n",
    "Packages give us additional functionality, saving us the trouble of writing procedures ourselves. \n",
    "\n",
    "Today we'll discuss:\n",
    "* [NumPy](http://www.numpy.org/) Fast mathemtatical operations on large datasets.\n",
    "* [Pandas](https://pandas.pydata.org) Encapsulation of data, easy read/write of ascii data. Builds extra functionality on top of NumPy.\n",
    "* [Matplotlib](https://matplotlib.org) Primarily python plotting/visualization package. You can generate plots, histograms, scatterplots, etc., with just a few lines of code."
   ]
  },
  {
   "cell_type": "code",
   "execution_count": null,
   "metadata": {
    "slideshow": {
     "slide_type": "subslide"
    }
   },
   "outputs": [],
   "source": [
    "import numpy as np"
   ]
  },
  {
   "cell_type": "markdown",
   "metadata": {
    "slideshow": {
     "slide_type": "slide"
    }
   },
   "source": [
    "## NumPy\n",
    "\n",
    "* Defining Arrays\n",
    "* Array operations"
   ]
  },
  {
   "cell_type": "code",
   "execution_count": null,
   "metadata": {
    "slideshow": {
     "slide_type": "subslide"
    }
   },
   "outputs": [],
   "source": [
    "a = np.arange(0,15).reshape(3, 5)\n",
    "#a.shape\n",
    "#a.size"
   ]
  },
  {
   "cell_type": "code",
   "execution_count": null,
   "metadata": {
    "slideshow": {
     "slide_type": "subslide"
    }
   },
   "outputs": [],
   "source": [
    "# Array operations\n",
    "b = np.arange(12).reshape(3,4)\n",
    "\n",
    "# Sum along rows\n",
    "b.sum(axis=0\n",
    "      \n",
    "# Get the minimum value along columns\n",
    "b.min(axis=1)\n",
    "      \n",
    "# Boolean operations\n",
    "b>1"
   ]
  },
  {
   "cell_type": "markdown",
   "metadata": {
    "slideshow": {
     "slide_type": "subslide"
    }
   },
   "source": [
    "For more examples, work through the: [Numpy Quickstart](https://docs.scipy.org/doc/numpy/user/quickstart.html)"
   ]
  },
  {
   "cell_type": "markdown",
   "metadata": {
    "slideshow": {
     "slide_type": "slide"
    }
   },
   "source": [
    "# Pandas\n",
    "* A library that helps encapsulate data\n",
    "* Comparable to data frames in R, structures in IDL, namespaces in C++ and modern Fortran\n",
    "\n",
    "Pros:\n",
    "* You can name columns and refence by labels instead of indices like in numpy arrays\n",
    "* This also makes performing group operations easier and more readable\n",
    "\n",
    "Cons:\n",
    "* Pandas is a wrapper for Numpy, so there is some efficiency overhead\n",
    "* Numpy arrays are better for referncing datasets > 2D"
   ]
  },
  {
   "cell_type": "markdown",
   "metadata": {
    "slideshow": {
     "slide_type": "slide"
    }
   },
   "source": [
    "### Looking at real in-situ data: AERONET\n",
    "* Aerosols are particles suspended in the atmosphere, including dust, sea salt, volcanic ash, smoke, and pollution.\n",
    "* Aerosol Optical Depth (AOD) is a unitless measure of the amount of aerosols in the atmosphere.\n",
    "* AERONET (AErosol RObotic NETwork) stations provide in-situ AOD observations."
   ]
  },
  {
   "cell_type": "code",
   "execution_count": 1,
   "metadata": {
    "slideshow": {
     "slide_type": "subslide"
    }
   },
   "outputs": [],
   "source": [
    "import pandas as pd"
   ]
  },
  {
   "cell_type": "code",
   "execution_count": 2,
   "metadata": {
    "slideshow": {
     "slide_type": "subslide"
    }
   },
   "outputs": [],
   "source": [
    "fname = 'data/aeronet_locations_v3.txt'\n",
    "stationList = pd.read_csv(fname, skiprows=1)"
   ]
  },
  {
   "cell_type": "code",
   "execution_count": 3,
   "metadata": {
    "slideshow": {
     "slide_type": "subslide"
    }
   },
   "outputs": [
    {
     "name": "stdout",
     "output_type": "stream",
     "text": [
      "['Site_Name', 'Longitude(decimal_degrees)', 'Latitude(decimal_degrees)', 'Elevation(meters)']\n"
     ]
    }
   ],
   "source": [
    "# Show column names - kind of ugly\n",
    "print(list(stationList))"
   ]
  },
  {
   "cell_type": "code",
   "execution_count": 4,
   "metadata": {
    "slideshow": {
     "slide_type": "subslide"
    }
   },
   "outputs": [
    {
     "data": {
      "text/html": [
       "<div>\n",
       "<style scoped>\n",
       "    .dataframe tbody tr th:only-of-type {\n",
       "        vertical-align: middle;\n",
       "    }\n",
       "\n",
       "    .dataframe tbody tr th {\n",
       "        vertical-align: top;\n",
       "    }\n",
       "\n",
       "    .dataframe thead th {\n",
       "        text-align: right;\n",
       "    }\n",
       "</style>\n",
       "<table border=\"1\" class=\"dataframe\">\n",
       "  <thead>\n",
       "    <tr style=\"text-align: right;\">\n",
       "      <th></th>\n",
       "      <th>site</th>\n",
       "      <th>lon</th>\n",
       "      <th>lat</th>\n",
       "      <th>elev</th>\n",
       "    </tr>\n",
       "  </thead>\n",
       "  <tbody>\n",
       "    <tr>\n",
       "      <th>0</th>\n",
       "      <td>Cuiaba</td>\n",
       "      <td>-56.070214</td>\n",
       "      <td>-15.555244</td>\n",
       "      <td>234.0</td>\n",
       "    </tr>\n",
       "    <tr>\n",
       "      <th>1</th>\n",
       "      <td>Alta_Floresta</td>\n",
       "      <td>-56.104453</td>\n",
       "      <td>-9.871339</td>\n",
       "      <td>277.0</td>\n",
       "    </tr>\n",
       "    <tr>\n",
       "      <th>2</th>\n",
       "      <td>Jamari</td>\n",
       "      <td>-63.068552</td>\n",
       "      <td>-9.199070</td>\n",
       "      <td>129.0</td>\n",
       "    </tr>\n",
       "    <tr>\n",
       "      <th>3</th>\n",
       "      <td>Tucson</td>\n",
       "      <td>-110.953003</td>\n",
       "      <td>32.233002</td>\n",
       "      <td>779.0</td>\n",
       "    </tr>\n",
       "    <tr>\n",
       "      <th>4</th>\n",
       "      <td>GSFC</td>\n",
       "      <td>-76.839833</td>\n",
       "      <td>38.992500</td>\n",
       "      <td>87.0</td>\n",
       "    </tr>\n",
       "    <tr>\n",
       "      <th>5</th>\n",
       "      <td>Kolfield</td>\n",
       "      <td>-74.476387</td>\n",
       "      <td>39.802223</td>\n",
       "      <td>50.0</td>\n",
       "    </tr>\n",
       "    <tr>\n",
       "      <th>6</th>\n",
       "      <td>Porto_Nacional</td>\n",
       "      <td>-48.410000</td>\n",
       "      <td>-10.700000</td>\n",
       "      <td>210.0</td>\n",
       "    </tr>\n",
       "    <tr>\n",
       "      <th>7</th>\n",
       "      <td>Brasilia</td>\n",
       "      <td>-47.900002</td>\n",
       "      <td>-15.917000</td>\n",
       "      <td>1100.0</td>\n",
       "    </tr>\n",
       "    <tr>\n",
       "      <th>8</th>\n",
       "      <td>Harvard_Forest</td>\n",
       "      <td>-72.188000</td>\n",
       "      <td>42.532000</td>\n",
       "      <td>339.0</td>\n",
       "    </tr>\n",
       "    <tr>\n",
       "      <th>9</th>\n",
       "      <td>Wallops</td>\n",
       "      <td>-75.471950</td>\n",
       "      <td>37.932850</td>\n",
       "      <td>37.0</td>\n",
       "    </tr>\n",
       "  </tbody>\n",
       "</table>\n",
       "</div>"
      ],
      "text/plain": [
       "             site         lon        lat    elev\n",
       "0          Cuiaba  -56.070214 -15.555244   234.0\n",
       "1   Alta_Floresta  -56.104453  -9.871339   277.0\n",
       "2          Jamari  -63.068552  -9.199070   129.0\n",
       "3          Tucson -110.953003  32.233002   779.0\n",
       "4            GSFC  -76.839833  38.992500    87.0\n",
       "5        Kolfield  -74.476387  39.802223    50.0\n",
       "6  Porto_Nacional  -48.410000 -10.700000   210.0\n",
       "7        Brasilia  -47.900002 -15.917000  1100.0\n",
       "8  Harvard_Forest  -72.188000  42.532000   339.0\n",
       "9         Wallops  -75.471950  37.932850    37.0"
      ]
     },
     "execution_count": 4,
     "metadata": {},
     "output_type": "execute_result"
    }
   ],
   "source": [
    "# Make easier to write\n",
    "stationList.columns = ['site', 'lon', 'lat', 'elev']\n",
    "\n",
    "# List the first ten stations\n",
    "stationList[0:10]"
   ]
  },
  {
   "cell_type": "markdown",
   "metadata": {
    "slideshow": {
     "slide_type": "slide"
    }
   },
   "source": [
    "<div class=\"alert alert-block alert-info\">\n",
    "\n",
    "# Exercise 2\n",
    "## Import ascii file\n",
    "* From the data folder, import \"20180801_20180831_PNNL_lev15.csv\" using the pandas read_csv command. Assign it to a variable.\n",
    "    * HINT: You might need to check out the file path with respect to your notebook location.\n",
    "* What are the column names?\n",
    "</div>"
   ]
  },
  {
   "cell_type": "markdown",
   "metadata": {
    "slideshow": {
     "slide_type": "slide"
    }
   },
   "source": [
    "## Basic Plotting with MatplotLib\n",
    "\n",
    "Common (simple) tasks in NOAA operations...\n",
    "* Histograms\n",
    "* Time series\n",
    "* Taking averages, computing the bias"
   ]
  },
  {
   "cell_type": "code",
   "execution_count": 5,
   "metadata": {
    "slideshow": {
     "slide_type": "subslide"
    }
   },
   "outputs": [
    {
     "name": "stdout",
     "output_type": "stream",
     "text": [
      "Populating the interactive namespace from numpy and matplotlib\n"
     ]
    }
   ],
   "source": [
    "# Matplotlib\n",
    "from matplotlib import pyplot as plt\n",
    "\n",
    "# Controls figure size\n",
    "plt.rcParams['figure.figsize'] = [10, 5]\n",
    "\n",
    "# Add the plot directly to your notebook\n",
    "#%matplotlib inline\n",
    "%pylab inline"
   ]
  },
  {
   "cell_type": "code",
   "execution_count": 6,
   "metadata": {
    "slideshow": {
     "slide_type": "subslide"
    }
   },
   "outputs": [
    {
     "data": {
      "image/png": "[encoded data removed]",
      "text/plain": [
       "<Figure size 432x288 with 1 Axes>"
      ]
     },
     "metadata": {
      "needs_background": "light"
     },
     "output_type": "display_data"
    }
   ],
   "source": [
    "# Create a histogram with 50 bins\n",
    "plt.hist(stationList[\"lat\"], bins=50)\n",
    "plt.xlabel(\"Latitude\")\n",
    "plt.ylabel(\"Count\")\n",
    "plt.title(\"Count of AERONET stations\")\n",
    "plt.show()"
   ]
  },
  {
   "cell_type": "markdown",
   "metadata": {
    "slideshow": {
     "slide_type": "slide"
    }
   },
   "source": [
    "### Time series data\n",
    "\n",
    "Need to tell python the date strings in the file are dates/times."
   ]
  },
  {
   "cell_type": "code",
   "execution_count": 7,
   "metadata": {
    "slideshow": {
     "slide_type": "subslide"
    }
   },
   "outputs": [
    {
     "data": {
      "text/html": [
       "<div>\n",
       "<style scoped>\n",
       "    .dataframe tbody tr th:only-of-type {\n",
       "        vertical-align: middle;\n",
       "    }\n",
       "\n",
       "    .dataframe tbody tr th {\n",
       "        vertical-align: top;\n",
       "    }\n",
       "\n",
       "    .dataframe thead th {\n",
       "        text-align: right;\n",
       "    }\n",
       "</style>\n",
       "<table border=\"1\" class=\"dataframe\">\n",
       "  <thead>\n",
       "    <tr style=\"text-align: right;\">\n",
       "      <th></th>\n",
       "      <th>Date(dd:mm:yyyy)</th>\n",
       "      <th>Time(hh:mm:ss)</th>\n",
       "      <th>Day_of_Year</th>\n",
       "      <th>Day_of_Year(Fraction)</th>\n",
       "      <th>AOD_1640nm</th>\n",
       "      <th>AOD_1020nm</th>\n",
       "      <th>AOD_870nm</th>\n",
       "      <th>AOD_865nm</th>\n",
       "      <th>AOD_779nm</th>\n",
       "      <th>AOD_675nm</th>\n",
       "      <th>...</th>\n",
       "      <th>Exact_Wavelengths_of_AOD(um)_380nm</th>\n",
       "      <th>Exact_Wavelengths_of_AOD(um)_340nm</th>\n",
       "      <th>Exact_Wavelengths_of_PW(um)_935nm</th>\n",
       "      <th>Exact_Wavelengths_of_AOD(um)_681nm</th>\n",
       "      <th>Exact_Wavelengths_of_AOD(um)_709nm</th>\n",
       "      <th>Exact_Wavelengths_of_AOD(um)_Empty</th>\n",
       "      <th>Exact_Wavelengths_of_AOD(um)_Empty.1</th>\n",
       "      <th>Exact_Wavelengths_of_AOD(um)_Empty.2</th>\n",
       "      <th>Exact_Wavelengths_of_AOD(um)_Empty.3</th>\n",
       "      <th>Exact_Wavelengths_of_AOD(um)_Empty.4</th>\n",
       "    </tr>\n",
       "  </thead>\n",
       "  <tbody>\n",
       "    <tr>\n",
       "      <th>0</th>\n",
       "      <td>01:08:2018</td>\n",
       "      <td>13:38:54</td>\n",
       "      <td>213</td>\n",
       "      <td>213.568681</td>\n",
       "      <td>0.021377</td>\n",
       "      <td>0.045989</td>\n",
       "      <td>0.059832</td>\n",
       "      <td>-999.0</td>\n",
       "      <td>-999.0</td>\n",
       "      <td>0.091885</td>\n",
       "      <td>...</td>\n",
       "      <td>0.3796</td>\n",
       "      <td>0.3406</td>\n",
       "      <td>0.936</td>\n",
       "      <td>-999.0</td>\n",
       "      <td>-999.0</td>\n",
       "      <td>-999.0</td>\n",
       "      <td>-999.0</td>\n",
       "      <td>-999.0</td>\n",
       "      <td>-999.0</td>\n",
       "      <td>-999.0</td>\n",
       "    </tr>\n",
       "    <tr>\n",
       "      <th>1</th>\n",
       "      <td>01:08:2018</td>\n",
       "      <td>13:43:01</td>\n",
       "      <td>213</td>\n",
       "      <td>213.571539</td>\n",
       "      <td>0.019886</td>\n",
       "      <td>0.041031</td>\n",
       "      <td>0.053130</td>\n",
       "      <td>-999.0</td>\n",
       "      <td>-999.0</td>\n",
       "      <td>0.080608</td>\n",
       "      <td>...</td>\n",
       "      <td>0.3796</td>\n",
       "      <td>0.3406</td>\n",
       "      <td>0.936</td>\n",
       "      <td>-999.0</td>\n",
       "      <td>-999.0</td>\n",
       "      <td>-999.0</td>\n",
       "      <td>-999.0</td>\n",
       "      <td>-999.0</td>\n",
       "      <td>-999.0</td>\n",
       "      <td>-999.0</td>\n",
       "    </tr>\n",
       "    <tr>\n",
       "      <th>2</th>\n",
       "      <td>01:08:2018</td>\n",
       "      <td>13:44:54</td>\n",
       "      <td>213</td>\n",
       "      <td>213.572847</td>\n",
       "      <td>0.019690</td>\n",
       "      <td>0.041370</td>\n",
       "      <td>0.053595</td>\n",
       "      <td>-999.0</td>\n",
       "      <td>-999.0</td>\n",
       "      <td>0.081946</td>\n",
       "      <td>...</td>\n",
       "      <td>0.3796</td>\n",
       "      <td>0.3406</td>\n",
       "      <td>0.936</td>\n",
       "      <td>-999.0</td>\n",
       "      <td>-999.0</td>\n",
       "      <td>-999.0</td>\n",
       "      <td>-999.0</td>\n",
       "      <td>-999.0</td>\n",
       "      <td>-999.0</td>\n",
       "      <td>-999.0</td>\n",
       "    </tr>\n",
       "    <tr>\n",
       "      <th>3</th>\n",
       "      <td>01:08:2018</td>\n",
       "      <td>13:48:22</td>\n",
       "      <td>213</td>\n",
       "      <td>213.575255</td>\n",
       "      <td>0.017494</td>\n",
       "      <td>0.035636</td>\n",
       "      <td>0.045685</td>\n",
       "      <td>-999.0</td>\n",
       "      <td>-999.0</td>\n",
       "      <td>0.068354</td>\n",
       "      <td>...</td>\n",
       "      <td>0.3796</td>\n",
       "      <td>0.3406</td>\n",
       "      <td>0.936</td>\n",
       "      <td>-999.0</td>\n",
       "      <td>-999.0</td>\n",
       "      <td>-999.0</td>\n",
       "      <td>-999.0</td>\n",
       "      <td>-999.0</td>\n",
       "      <td>-999.0</td>\n",
       "      <td>-999.0</td>\n",
       "    </tr>\n",
       "    <tr>\n",
       "      <th>4</th>\n",
       "      <td>01:08:2018</td>\n",
       "      <td>13:52:01</td>\n",
       "      <td>213</td>\n",
       "      <td>213.577789</td>\n",
       "      <td>0.015753</td>\n",
       "      <td>0.030823</td>\n",
       "      <td>0.039178</td>\n",
       "      <td>-999.0</td>\n",
       "      <td>-999.0</td>\n",
       "      <td>0.057334</td>\n",
       "      <td>...</td>\n",
       "      <td>0.3796</td>\n",
       "      <td>0.3406</td>\n",
       "      <td>0.936</td>\n",
       "      <td>-999.0</td>\n",
       "      <td>-999.0</td>\n",
       "      <td>-999.0</td>\n",
       "      <td>-999.0</td>\n",
       "      <td>-999.0</td>\n",
       "      <td>-999.0</td>\n",
       "      <td>-999.0</td>\n",
       "    </tr>\n",
       "    <tr>\n",
       "      <th>5</th>\n",
       "      <td>01:08:2018</td>\n",
       "      <td>13:54:43</td>\n",
       "      <td>213</td>\n",
       "      <td>213.579664</td>\n",
       "      <td>0.015452</td>\n",
       "      <td>0.029810</td>\n",
       "      <td>0.037515</td>\n",
       "      <td>-999.0</td>\n",
       "      <td>-999.0</td>\n",
       "      <td>0.054358</td>\n",
       "      <td>...</td>\n",
       "      <td>0.3796</td>\n",
       "      <td>0.3406</td>\n",
       "      <td>0.936</td>\n",
       "      <td>-999.0</td>\n",
       "      <td>-999.0</td>\n",
       "      <td>-999.0</td>\n",
       "      <td>-999.0</td>\n",
       "      <td>-999.0</td>\n",
       "      <td>-999.0</td>\n",
       "      <td>-999.0</td>\n",
       "    </tr>\n",
       "    <tr>\n",
       "      <th>6</th>\n",
       "      <td>01:08:2018</td>\n",
       "      <td>13:58:01</td>\n",
       "      <td>213</td>\n",
       "      <td>213.581956</td>\n",
       "      <td>0.015075</td>\n",
       "      <td>0.028612</td>\n",
       "      <td>0.035908</td>\n",
       "      <td>-999.0</td>\n",
       "      <td>-999.0</td>\n",
       "      <td>0.051521</td>\n",
       "      <td>...</td>\n",
       "      <td>0.3796</td>\n",
       "      <td>0.3406</td>\n",
       "      <td>0.936</td>\n",
       "      <td>-999.0</td>\n",
       "      <td>-999.0</td>\n",
       "      <td>-999.0</td>\n",
       "      <td>-999.0</td>\n",
       "      <td>-999.0</td>\n",
       "      <td>-999.0</td>\n",
       "      <td>-999.0</td>\n",
       "    </tr>\n",
       "    <tr>\n",
       "      <th>7</th>\n",
       "      <td>01:08:2018</td>\n",
       "      <td>14:01:01</td>\n",
       "      <td>213</td>\n",
       "      <td>213.584039</td>\n",
       "      <td>0.014628</td>\n",
       "      <td>0.027180</td>\n",
       "      <td>0.034184</td>\n",
       "      <td>-999.0</td>\n",
       "      <td>-999.0</td>\n",
       "      <td>0.048527</td>\n",
       "      <td>...</td>\n",
       "      <td>0.3796</td>\n",
       "      <td>0.3406</td>\n",
       "      <td>0.936</td>\n",
       "      <td>-999.0</td>\n",
       "      <td>-999.0</td>\n",
       "      <td>-999.0</td>\n",
       "      <td>-999.0</td>\n",
       "      <td>-999.0</td>\n",
       "      <td>-999.0</td>\n",
       "      <td>-999.0</td>\n",
       "    </tr>\n",
       "    <tr>\n",
       "      <th>8</th>\n",
       "      <td>01:08:2018</td>\n",
       "      <td>14:02:54</td>\n",
       "      <td>213</td>\n",
       "      <td>213.585347</td>\n",
       "      <td>0.015034</td>\n",
       "      <td>0.027499</td>\n",
       "      <td>0.034068</td>\n",
       "      <td>-999.0</td>\n",
       "      <td>-999.0</td>\n",
       "      <td>0.047927</td>\n",
       "      <td>...</td>\n",
       "      <td>0.3796</td>\n",
       "      <td>0.3406</td>\n",
       "      <td>0.936</td>\n",
       "      <td>-999.0</td>\n",
       "      <td>-999.0</td>\n",
       "      <td>-999.0</td>\n",
       "      <td>-999.0</td>\n",
       "      <td>-999.0</td>\n",
       "      <td>-999.0</td>\n",
       "      <td>-999.0</td>\n",
       "    </tr>\n",
       "    <tr>\n",
       "      <th>9</th>\n",
       "      <td>01:08:2018</td>\n",
       "      <td>14:07:00</td>\n",
       "      <td>213</td>\n",
       "      <td>213.588194</td>\n",
       "      <td>0.014380</td>\n",
       "      <td>0.026070</td>\n",
       "      <td>0.032423</td>\n",
       "      <td>-999.0</td>\n",
       "      <td>-999.0</td>\n",
       "      <td>0.045592</td>\n",
       "      <td>...</td>\n",
       "      <td>0.3796</td>\n",
       "      <td>0.3406</td>\n",
       "      <td>0.936</td>\n",
       "      <td>-999.0</td>\n",
       "      <td>-999.0</td>\n",
       "      <td>-999.0</td>\n",
       "      <td>-999.0</td>\n",
       "      <td>-999.0</td>\n",
       "      <td>-999.0</td>\n",
       "      <td>-999.0</td>\n",
       "    </tr>\n",
       "  </tbody>\n",
       "</table>\n",
       "<p>10 rows × 113 columns</p>\n",
       "</div>"
      ],
      "text/plain": [
       "  Date(dd:mm:yyyy) Time(hh:mm:ss)  Day_of_Year  Day_of_Year(Fraction)  \\\n",
       "0       01:08:2018       13:38:54          213             213.568681   \n",
       "1       01:08:2018       13:43:01          213             213.571539   \n",
       "2       01:08:2018       13:44:54          213             213.572847   \n",
       "3       01:08:2018       13:48:22          213             213.575255   \n",
       "4       01:08:2018       13:52:01          213             213.577789   \n",
       "5       01:08:2018       13:54:43          213             213.579664   \n",
       "6       01:08:2018       13:58:01          213             213.581956   \n",
       "7       01:08:2018       14:01:01          213             213.584039   \n",
       "8       01:08:2018       14:02:54          213             213.585347   \n",
       "9       01:08:2018       14:07:00          213             213.588194   \n",
       "\n",
       "   AOD_1640nm  AOD_1020nm  AOD_870nm  AOD_865nm  AOD_779nm  AOD_675nm  \\\n",
       "0    0.021377    0.045989   0.059832     -999.0     -999.0   0.091885   \n",
       "1    0.019886    0.041031   0.053130     -999.0     -999.0   0.080608   \n",
       "2    0.019690    0.041370   0.053595     -999.0     -999.0   0.081946   \n",
       "3    0.017494    0.035636   0.045685     -999.0     -999.0   0.068354   \n",
       "4    0.015753    0.030823   0.039178     -999.0     -999.0   0.057334   \n",
       "5    0.015452    0.029810   0.037515     -999.0     -999.0   0.054358   \n",
       "6    0.015075    0.028612   0.035908     -999.0     -999.0   0.051521   \n",
       "7    0.014628    0.027180   0.034184     -999.0     -999.0   0.048527   \n",
       "8    0.015034    0.027499   0.034068     -999.0     -999.0   0.047927   \n",
       "9    0.014380    0.026070   0.032423     -999.0     -999.0   0.045592   \n",
       "\n",
       "                   ...                   Exact_Wavelengths_of_AOD(um)_380nm  \\\n",
       "0                  ...                                               0.3796   \n",
       "1                  ...                                               0.3796   \n",
       "2                  ...                                               0.3796   \n",
       "3                  ...                                               0.3796   \n",
       "4                  ...                                               0.3796   \n",
       "5                  ...                                               0.3796   \n",
       "6                  ...                                               0.3796   \n",
       "7                  ...                                               0.3796   \n",
       "8                  ...                                               0.3796   \n",
       "9                  ...                                               0.3796   \n",
       "\n",
       "   Exact_Wavelengths_of_AOD(um)_340nm  Exact_Wavelengths_of_PW(um)_935nm  \\\n",
       "0                              0.3406                              0.936   \n",
       "1                              0.3406                              0.936   \n",
       "2                              0.3406                              0.936   \n",
       "3                              0.3406                              0.936   \n",
       "4                              0.3406                              0.936   \n",
       "5                              0.3406                              0.936   \n",
       "6                              0.3406                              0.936   \n",
       "7                              0.3406                              0.936   \n",
       "8                              0.3406                              0.936   \n",
       "9                              0.3406                              0.936   \n",
       "\n",
       "   Exact_Wavelengths_of_AOD(um)_681nm  Exact_Wavelengths_of_AOD(um)_709nm  \\\n",
       "0                              -999.0                              -999.0   \n",
       "1                              -999.0                              -999.0   \n",
       "2                              -999.0                              -999.0   \n",
       "3                              -999.0                              -999.0   \n",
       "4                              -999.0                              -999.0   \n",
       "5                              -999.0                              -999.0   \n",
       "6                              -999.0                              -999.0   \n",
       "7                              -999.0                              -999.0   \n",
       "8                              -999.0                              -999.0   \n",
       "9                              -999.0                              -999.0   \n",
       "\n",
       "   Exact_Wavelengths_of_AOD(um)_Empty  Exact_Wavelengths_of_AOD(um)_Empty.1  \\\n",
       "0                              -999.0                                -999.0   \n",
       "1                              -999.0                                -999.0   \n",
       "2                              -999.0                                -999.0   \n",
       "3                              -999.0                                -999.0   \n",
       "4                              -999.0                                -999.0   \n",
       "5                              -999.0                                -999.0   \n",
       "6                              -999.0                                -999.0   \n",
       "7                              -999.0                                -999.0   \n",
       "8                              -999.0                                -999.0   \n",
       "9                              -999.0                                -999.0   \n",
       "\n",
       "   Exact_Wavelengths_of_AOD(um)_Empty.2  Exact_Wavelengths_of_AOD(um)_Empty.3  \\\n",
       "0                                -999.0                                -999.0   \n",
       "1                                -999.0                                -999.0   \n",
       "2                                -999.0                                -999.0   \n",
       "3                                -999.0                                -999.0   \n",
       "4                                -999.0                                -999.0   \n",
       "5                                -999.0                                -999.0   \n",
       "6                                -999.0                                -999.0   \n",
       "7                                -999.0                                -999.0   \n",
       "8                                -999.0                                -999.0   \n",
       "9                                -999.0                                -999.0   \n",
       "\n",
       "   Exact_Wavelengths_of_AOD(um)_Empty.4  \n",
       "0                                -999.0  \n",
       "1                                -999.0  \n",
       "2                                -999.0  \n",
       "3                                -999.0  \n",
       "4                                -999.0  \n",
       "5                                -999.0  \n",
       "6                                -999.0  \n",
       "7                                -999.0  \n",
       "8                                -999.0  \n",
       "9                                -999.0  \n",
       "\n",
       "[10 rows x 113 columns]"
      ]
     },
     "execution_count": 7,
     "metadata": {},
     "output_type": "execute_result"
    }
   ],
   "source": [
    "groundStationPNNL = pd.read_csv('data/20180801_20180831_PNNL_lev15.csv')\n",
    "\n",
    "# Inspect the first ten rows\n",
    "groundStationPNNL[0:10]"
   ]
  },
  {
   "cell_type": "code",
   "execution_count": 8,
   "metadata": {},
   "outputs": [],
   "source": [
    "# Convert the string dates and times to date format\n",
    "groundStationPNNL['datetime'] = groundStationPNNL['Date(dd:mm:yyyy)'] + ' ' + groundStationPNNL['Time(hh:mm:ss)']\n",
    "\n",
    "# Explicitly declare the format (for the full list, see http://strftime.org)\n",
    "fmt = '%d:%m:%Y %H:%M:%S'\n",
    "groundStationPNNL['datetime'] = pd.to_datetime(groundStationPNNL['datetime'], format=fmt)"
   ]
  },
  {
   "cell_type": "markdown",
   "metadata": {
    "slideshow": {
     "slide_type": "slide"
    }
   },
   "source": [
    "### To plot a single variable\n",
    "* Add the data using plt.plot(x='X Column Name', y='Y Column Name')"
   ]
  },
  {
   "cell_type": "code",
   "execution_count": 9,
   "metadata": {
    "slideshow": {
     "slide_type": "slide"
    }
   },
   "outputs": [
    {
     "data": {
      "image/png": "[encoded data removed]",
      "text/plain": [
       "<Figure size 432x288 with 1 Axes>"
      ]
     },
     "metadata": {
      "needs_background": "light"
     },
     "output_type": "display_data"
    }
   ],
   "source": [
    "plt.plot(groundStationPNNL.datetime, groundStationPNNL.AOD_870nm)\n",
    "plt.xticks(rotation=35)\n",
    "plt.show()"
   ]
  },
  {
   "cell_type": "markdown",
   "metadata": {
    "slideshow": {
     "slide_type": "slide"
    }
   },
   "source": [
    "<div class=\"alert alert-block alert-info\">\n",
    "\n",
    "# Exercise 3\n",
    "\n",
    "??? = Fill in the blank!\n",
    "\n",
    "## Create a histogram\n",
    "* Import the aeronet station list and locations from the file aeronet_locations_v3.txt using the pandas read_csv command.\n",
    "* Plot a histogram of the longitude distribution of stations using the ???.hist(???) command\n",
    "\n",
    "## Challenge: Create a time series plot\n",
    "* Import time series data from 20180801_20180831_PNNL_lev15.csv.\n",
    "* Create a new column in the dataframe with a string that combines the dates and times\n",
    "* Convert the string of dates and times to datetime format using the pandas to_datetime command. \n",
    "    * Note: Explicitly specify the format of the dates and times in the string for pandas to parse.\n",
    "* Use the ???.plot(x=???, y=???) to create a plot.\n",
    "</div>"
   ]
  },
  {
   "cell_type": "markdown",
   "metadata": {
    "slideshow": {
     "slide_type": "slide"
    }
   },
   "source": [
    "### Main steps to combining the plots:\n",
    "* Initiate a figure using plt.figure()\n",
    "* Get the \"current axes\" using plt.gca()\n",
    "* Add the data using plt.plot"
   ]
  },
  {
   "cell_type": "code",
   "execution_count": 10,
   "metadata": {
    "slideshow": {
     "slide_type": "subslide"
    }
   },
   "outputs": [
    {
     "data": {
      "image/png": "[encoded data removed]",
      "text/plain": [
       "<Figure size 432x288 with 1 Axes>"
      ]
     },
     "metadata": {
      "needs_background": "light"
     },
     "output_type": "display_data"
    }
   ],
   "source": [
    "plt.plot(groundStationPNNL.datetime, groundStationPNNL.AOD_870nm)\n",
    "plt.plot(groundStationPNNL.datetime, groundStationPNNL.AOD_1020nm)\n",
    "plt.xticks(rotation=35)\n",
    "plt.legend()\n",
    "plt.show()"
   ]
  },
  {
   "cell_type": "markdown",
   "metadata": {
    "slideshow": {
     "slide_type": "slide"
    }
   },
   "source": [
    "### Filtering Data\n",
    "Sometimes there are values we don't want in our plots, e.g. missing data values of -999.0"
   ]
  },
  {
   "cell_type": "code",
   "execution_count": 11,
   "metadata": {
    "slideshow": {
     "slide_type": "subslide"
    }
   },
   "outputs": [
    {
     "data": {
      "text/plain": [
       "[<matplotlib.lines.Line2D at 0x1189f44e0>]"
      ]
     },
     "execution_count": 11,
     "metadata": {},
     "output_type": "execute_result"
    },
    {
     "data": {
      "image/png": "[encoded data removed]",
      "text/plain": [
       "<Figure size 432x288 with 1 Axes>"
      ]
     },
     "metadata": {
      "needs_background": "light"
     },
     "output_type": "display_data"
    }
   ],
   "source": [
    "plt.plot(groundStationPNNL.datetime, groundStationPNNL.AOD_870nm)\n",
    "plt.plot(groundStationPNNL.datetime, groundStationPNNL.AOD_1020nm)\n",
    "plt.plot(groundStationPNNL.datetime, groundStationPNNL.AOD_1640nm)"
   ]
  },
  {
   "cell_type": "code",
   "execution_count": 12,
   "metadata": {
    "slideshow": {
     "slide_type": "subslide"
    }
   },
   "outputs": [
    {
     "data": {
      "text/plain": [
       "[<matplotlib.lines.Line2D at 0x1189f4b38>]"
      ]
     },
     "execution_count": 12,
     "metadata": {},
     "output_type": "execute_result"
    },
    {
     "data": {
      "image/png": "[encoded data removed]",
      "text/plain": [
       "<Figure size 432x288 with 1 Axes>"
      ]
     },
     "metadata": {
      "needs_background": "light"
     },
     "output_type": "display_data"
    }
   ],
   "source": [
    "# Filter out missing values by only using aeronetStaPNNL['AOD_1640nm'] > 0\n",
    "keepRows = groundStationPNNL['AOD_1640nm'] >= 0\n",
    "plt.plot(groundStationPNNL[keepRows].datetime, groundStationPNNL[keepRows].AOD_1640nm)"
   ]
  },
  {
   "cell_type": "markdown",
   "metadata": {
    "slideshow": {
     "slide_type": "slide"
    }
   },
   "source": [
    "## netCDF4\n",
    "netCDF files organize data into groups, which are organized like directories in a filesystem. The groups are containers for variables, dimensions and attributes. \n",
    "\n",
    "The netCDF4 package is included in Anaconda Python. The main function is Dataset, which reads from an existing file:\n",
    "```\n",
    "file_id = Dataset(\"test.nc\", \"r\", format=\"NETCDF4\")\n",
    "```\n",
    "You can choose to 'w' (write), 'r' (read), or 'a'\n",
    "\n",
    "The foramts can be: NETCDF3_CLASSIC, NETCDF3_64BIT_OFFSET, NETCDF3_64BIT_DATA, NETCDF4_CLASSIC, and NETCDF4 (default)"
   ]
  },
  {
   "cell_type": "code",
   "execution_count": 13,
   "metadata": {
    "slideshow": {
     "slide_type": "subslide"
    }
   },
   "outputs": [],
   "source": [
    "from netCDF4 import Dataset"
   ]
  },
  {
   "cell_type": "code",
   "execution_count": 14,
   "metadata": {
    "slideshow": {
     "slide_type": "subslide"
    }
   },
   "outputs": [
    {
     "name": "stdout",
     "output_type": "stream",
     "text": [
      "odict_keys(['Latitude', 'Longitude', 'StartRow', 'StartColumn', 'AOD550', 'AOD_channel', 'AngsExp1', 'AngsExp2', 'QCPath', 'AerMdl', 'FineMdlIdx', 'CoarseMdlIdx', 'FineModWgt', 'SfcRefl', 'SpaStddev', 'Residual', 'AOD550LndMdl', 'ResLndMdl', 'MeanAOD', 'HighQualityPct', 'RetrievalPct', 'QCRet', 'QCExtn', 'QCTest', 'QCInput', 'QCAll'])\n"
     ]
    }
   ],
   "source": [
    "# To open the files, call the Dataset constructor\n",
    "file_id = Dataset('data/JRR-AOD_v1r1_npp_s201808091955538_e201808091957180_c201808092049460.nc')\n",
    "\n",
    "# Quickly inspect the contents\n",
    "print(file_id.variables.keys())"
   ]
  },
  {
   "cell_type": "code",
   "execution_count": 15,
   "metadata": {
    "slideshow": {
     "slide_type": "subslide"
    }
   },
   "outputs": [],
   "source": [
    "# Copy the AOD variable and the latitude and longitude coordinates into arrays object using .variables\n",
    "AOD550 = file_id.variables['AOD550']\n",
    "lat = file_id.variables['Latitude']\n",
    "lon = file_id.variables['Longitude']"
   ]
  },
  {
   "cell_type": "code",
   "execution_count": 16,
   "metadata": {
    "slideshow": {
     "slide_type": "subslide"
    }
   },
   "outputs": [
    {
     "data": {
      "text/plain": [
       "['long_name', 'coordinates', 'units', '_FillValue', 'valid_range']"
      ]
     },
     "execution_count": 16,
     "metadata": {},
     "output_type": "execute_result"
    }
   ],
   "source": [
    "# Inspect attributes using .ncattrs command\n",
    "file_id.variables['AOD550'].ncattrs()"
   ]
  },
  {
   "cell_type": "code",
   "execution_count": 17,
   "metadata": {
    "slideshow": {
     "slide_type": "subslide"
    }
   },
   "outputs": [
    {
     "name": "stdout",
     "output_type": "stream",
     "text": [
      "0.419033 0.381804 1746384\n"
     ]
    }
   ],
   "source": [
    "# Get some very simple statistics by converting into a NumPy array\n",
    "AOD550 = np.array(AOD550)\n",
    "\n",
    "# Remove missing values\n",
    "missing = file_id.variables['AOD550']._FillValue\n",
    "keepRows = AOD550 != missing\n",
    "AOD550 = AOD550[keepRows]\n",
    "\n",
    "avgAOD = AOD550.mean()\n",
    "stdDev = AOD550.std()\n",
    "nAOD = AOD550.size\n",
    "\n",
    "print(avgAOD, stdDev, nAOD)"
   ]
  },
  {
   "cell_type": "markdown",
   "metadata": {
    "slideshow": {
     "slide_type": "slide"
    }
   },
   "source": [
    "<div class=\"alert alert-block alert-info\">\n",
    "\n",
    "# Exercise 4\n",
    "## Import netCDF file\n",
    "From the data folder, import \"JRR-AOD_v1r1_npp_s201808091958446_e201808092000088_c201808092051450.nc\" using the Dataset command form the netcdf4 package.\n",
    "\n",
    "## Inspect the list of variables\n",
    "Get a list of variables after the fole has been opening.\n",
    "\n",
    "## Inspect the attributes of a given variable\n",
    "What are the attributes of the AOD550 variable?\n",
    "\n",
    "</div>"
   ]
  },
  {
   "cell_type": "markdown",
   "metadata": {
    "slideshow": {
     "slide_type": "slide"
    }
   },
   "source": [
    "## Closing up\n",
    "I am available by email: rebekah.esmaili@gmail.com\n",
    "\n",
    "* Some (free!) ways to learn: \n",
    "    * [Automate boring stuff](https://automatetheboringstuff.com)\n",
    "    * [Codeacademy](https://www.codecademy.com/learn/learn-python)\n",
    "    * [Local Meetups](https://www.meetup.com/find/tech/)\n",
    "    * Start a NOAA Python Club!\n",
    "\n",
    "Did you find this workshop helpful? Please fill out survey!\n",
    "\n",
    "Next session: Friday, Nov 9th 9:30-11:30am\n",
    "\n",
    "## Thank you!\n",
    "I hope you enjoyed this crash course in python in remote sensing applications! Please fill out feedback, write as much as you can!"
   ]
  }
 ],
 "metadata": {
  "celltoolbar": "Slideshow",
  "kernelspec": {
   "display_name": "Python 3",
   "language": "python",
   "name": "python3"
  },
  "language_info": {
   "codemirror_mode": {
    "name": "ipython",
    "version": 3
   },
   "file_extension": ".py",
   "mimetype": "text/x-python",
   "name": "python",
   "nbconvert_exporter": "python",
   "pygments_lexer": "ipython3",
   "version": "3.5.6"
  }
 },
 "nbformat": 4,
 "nbformat_minor": 2
}
