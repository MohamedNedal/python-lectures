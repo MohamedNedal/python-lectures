{
 "cells": [
  {
   "cell_type": "markdown",
   "metadata": {
    "slideshow": {
     "slide_type": "slide"
    }
   },
   "source": [
    "# Python Lesson 1: Introduction to Jupyter Notebooks, Analysis, and Plotting\n",
    "![](img/day1.jpg)\n",
    "\n",
    "\n",
    "Rebekah Esmaili (STAR/IMSG)\n",
    "\n",
    "[rebekah.esmaili@gmail.com](mailto:rebekah.esmaili@gmail.com)\n",
    "\n",
    "Code, Data, and Installation Guide: [https://ter.ps/noaapy](https://ter.ps/noaapy)"
   ]
  },
  {
   "cell_type": "markdown",
   "metadata": {
    "slideshow": {
     "slide_type": "slide"
    }
   },
   "source": [
    "## Agenda\n",
    "\n",
    "1. Why Python?\n",
    "2. Objectives\n",
    "3. Setting up your development environment\n",
    "4. Reading and writing tabular data with the NumPy package\n",
    "5. Encapsulating data with the Pandas package\n",
    "6. Plotting with the Matplotlib package\n",
    "7. Importing and inspecting NetCDF files"
   ]
  },
  {
   "cell_type": "markdown",
   "metadata": {
    "slideshow": {
     "slide_type": "slide"
    }
   },
   "source": [
    "## Why Python?\n",
    "\n",
    "Pros\n",
    "\n",
    "* General-purpose, cross-platform  \n",
    "* Free and open source  \n",
    "* Resaonably easy to learn, good statistical and visualization packages/modules  \n",
    "* Forces good syntax  \n",
    "* Reads satellite data formats like HDF, NetCDF, GRIB \n",
    "\n",
    "\n",
    "Cons\n",
    "\n",
    "* Performance penalties for interpretted languages  \n",
    "* Packages are a \"black box\" and can be discontinued  "
   ]
  },
  {
   "cell_type": "markdown",
   "metadata": {
    "slideshow": {
     "slide_type": "slide"
    }
   },
   "source": [
    "## Objective: working with satellite datasets\n",
    "\n",
    "* You won't learn how to code in Python\n",
    "* You will learn to:\n",
    "\t* Read/write ascii data\n",
    "\t* Basic plotting and visualization\n",
    "\t* Perform data filtering"
   ]
  },
  {
   "cell_type": "markdown",
   "metadata": {
    "slideshow": {
     "slide_type": "slide"
    }
   },
   "source": [
    "Python is an interpretted language, so you as minimum you need to have Python on your computer.\n",
    "\n",
    "## What is Anaconda?\n",
    "\n",
    "* Anaconda is a package manager\n",
    "* Comes bundled with Python, a lot of useful scientific/mathematical packages, and development environments.\n",
    "* Easiest place to start if you new\n",
    "\n",
    "## Development environments\n",
    "\n",
    "* Spyder: most Matlab-like\n",
    "* Jupyter notebooks: web based. Similar to Mathematica, runs code inline\n",
    "* Text editor + run with command line for scripting"
   ]
  },
  {
   "cell_type": "markdown",
   "metadata": {
    "slideshow": {
     "slide_type": "slide"
    }
   },
   "source": [
    "## Launching Jupyter Notebook\n",
    "\n",
    "### Mac\n",
    "\n",
    "* Open Anaconda Navigator and click on Jupyter Notebook\n",
    "\n",
    "\n",
    "### Linux\n",
    "\n",
    "* Open terminal, and type:\n",
    "```\n",
    "jupyter notebook    \n",
    "```\n",
    "\n",
    "### Windows\n",
    "\n",
    "* Start -> Anaconda3 -> Jupyter Notebook"
   ]
  },
  {
   "cell_type": "markdown",
   "metadata": {
    "slideshow": {
     "slide_type": "slide"
    }
   },
   "source": [
    "## Launching Jupyter Notebook\n",
    "\n",
    "This will launch your default web browser with a local webserver that displays the contents of the directory that you're working in. \n",
    "\n",
    "Click on New on the top right:\n",
    "\n",
    "![](img/jn-screenshot.png)"
   ]
  },
  {
   "cell_type": "markdown",
   "metadata": {
    "slideshow": {
     "slide_type": "slide"
    }
   },
   "source": [
    "<div class=\"alert alert-block alert-info\">\n",
    "\n",
    "# Exercise 1\n",
    "## Set-up your environment\n",
    "\n",
    "* For your opertating system, launch Jupyter Notebooks\n",
    "\n",
    "## Create a notebook\n",
    "* Create a new notebook\n",
    "* Change the name from \"untitled\" to something better\n",
    "* Save in the __same directory as the data folder__ that we provided (or move the data directory to the same place at the file because we'll need it later!).\n",
    "\n",
    "</div>"
   ]
  },
  {
   "cell_type": "code",
   "execution_count": null,
   "metadata": {
    "slideshow": {
     "slide_type": "subslide"
    }
   },
   "outputs": [],
   "source": [
    "# This is a comment\n",
    "print(\"hello world\")"
   ]
  },
  {
   "cell_type": "code",
   "execution_count": null,
   "metadata": {
    "slideshow": {
     "slide_type": "subslide"
    }
   },
   "outputs": [],
   "source": [
    "# This is an array\n",
    "test = [1,2,3,4,5]"
   ]
  },
  {
   "cell_type": "code",
   "execution_count": null,
   "metadata": {
    "slideshow": {
     "slide_type": "subslide"
    }
   },
   "outputs": [],
   "source": [
    "# This will show me the array\n",
    "print(test)"
   ]
  },
  {
   "cell_type": "code",
   "execution_count": null,
   "metadata": {
    "slideshow": {
     "slide_type": "subslide"
    }
   },
   "outputs": [],
   "source": [
    "# So will this\n",
    "test"
   ]
  },
  {
   "cell_type": "code",
   "execution_count": null,
   "metadata": {},
   "outputs": [],
   "source": [
    "# Is this what you expected to happen?\n",
    "test*2"
   ]
  },
  {
   "cell_type": "code",
   "execution_count": null,
   "metadata": {
    "slideshow": {
     "slide_type": "subslide"
    }
   },
   "outputs": [],
   "source": [
    "# This is a function (note the TAB!)\n",
    "def Farenheit2Celsius(F):\n",
    "    return (F-32)*5/9\n",
    "\n",
    "# This calls the function\n",
    "Farenheit2Celsius(32)"
   ]
  },
  {
   "cell_type": "markdown",
   "metadata": {
    "slideshow": {
     "slide_type": "slide"
    }
   },
   "source": [
    "## Importing Packages\n",
    "Packages give us additional functionality, saving us the trouble of writing procedures ourselves. \n",
    "\n",
    "Today we'll discuss:\n",
    "\n",
    "* [NumPy](http://www.numpy.org/) Fast mathematical operations on large datasets.\n",
    "* [Pandas](https://pandas.pydata.org) Encapsulation of data, easy read/write of ascii data. Builds extra functionality on top of NumPy.\n",
    "* [Matplotlib](https://matplotlib.org) Primarily python plotting/visualization package. You can generate plots, histograms, scatterplots, etc., with just a few lines of code."
   ]
  },
  {
   "cell_type": "code",
   "execution_count": null,
   "metadata": {
    "slideshow": {
     "slide_type": "subslide"
    }
   },
   "outputs": [],
   "source": [
    "import numpy as np"
   ]
  },
  {
   "cell_type": "markdown",
   "metadata": {
    "slideshow": {
     "slide_type": "slide"
    }
   },
   "source": [
    "## NumPy\n",
    "\n",
    "* Defining Arrays\n",
    "* Array operations"
   ]
  },
  {
   "cell_type": "code",
   "execution_count": null,
   "metadata": {
    "slideshow": {
     "slide_type": "subslide"
    }
   },
   "outputs": [],
   "source": [
    "# Array operations\n",
    "b = a.reshape(3,2)\n",
    "b"
   ]
  },
  {
   "cell_type": "code",
   "execution_count": null,
   "metadata": {},
   "outputs": [],
   "source": [
    "# Sum along rows\n",
    "b.sum()"
   ]
  },
  {
   "cell_type": "code",
   "execution_count": null,
   "metadata": {},
   "outputs": [],
   "source": [
    "# Get the minimum value along columns\n",
    "b.min(axis=0)"
   ]
  },
  {
   "cell_type": "code",
   "execution_count": null,
   "metadata": {},
   "outputs": [],
   "source": [
    "# Boolean operations\n",
    "b>1"
   ]
  },
  {
   "cell_type": "markdown",
   "metadata": {
    "slideshow": {
     "slide_type": "subslide"
    }
   },
   "source": [
    "For more examples, work through the: [Numpy Quickstart](https://docs.scipy.org/doc/numpy/user/quickstart.html)"
   ]
  },
  {
   "cell_type": "markdown",
   "metadata": {
    "slideshow": {
     "slide_type": "slide"
    }
   },
   "source": [
    "# Pandas\n",
    "* A library that helps encapsulate data\n",
    "* Comparable to data frames in R, structures in IDL, namespaces in C++ and modern Fortran\n",
    "\n",
    "Pros:\n",
    "\n",
    "* You can name columns and refence by labels instead of indices like in numpy arrays\n",
    "* This also makes performing group operations easier and more readable\n",
    "\n",
    "Cons:\n",
    "\n",
    "* Pandas is a wrapper for NumPy, so there is some efficiency overhead\n",
    "* NumPy arrays are better for referencing datasets > 2D"
   ]
  },
  {
   "cell_type": "markdown",
   "metadata": {
    "slideshow": {
     "slide_type": "slide"
    }
   },
   "source": [
    "### Looking at real in-situ data: AERONET\n",
    "* Aerosols are particles suspended in the atmosphere, including dust, sea salt, volcanic ash, smoke, and pollution.\n",
    "* Aerosol Optical Depth (AOD) is a unitless measure of the amount of aerosols in the atmosphere.\n",
    "* AERONET (AErosol RObotic NETwork) stations provide in-situ AOD observations."
   ]
  },
  {
   "cell_type": "code",
   "execution_count": 8,
   "metadata": {
    "slideshow": {
     "slide_type": "subslide"
    }
   },
   "outputs": [],
   "source": [
    "import pandas as pd"
   ]
  },
  {
   "cell_type": "code",
   "execution_count": 9,
   "metadata": {
    "slideshow": {
     "slide_type": "subslide"
    }
   },
   "outputs": [],
   "source": [
    "fname = 'data/aeronet_locations_v3.txt'\n",
    "stationList = pd.read_csv(fname, skiprows=1)"
   ]
  },
  {
   "cell_type": "code",
   "execution_count": null,
   "metadata": {
    "slideshow": {
     "slide_type": "subslide"
    }
   },
   "outputs": [],
   "source": [
    "# Show column names - kind of ugly\n",
    "print(list(stationList))"
   ]
  },
  {
   "cell_type": "code",
   "execution_count": 12,
   "metadata": {
    "slideshow": {
     "slide_type": "subslide"
    }
   },
   "outputs": [
    {
     "data": {
      "text/html": [
       "<div>\n",
       "<style scoped>\n",
       "    .dataframe tbody tr th:only-of-type {\n",
       "        vertical-align: middle;\n",
       "    }\n",
       "\n",
       "    .dataframe tbody tr th {\n",
       "        vertical-align: top;\n",
       "    }\n",
       "\n",
       "    .dataframe thead th {\n",
       "        text-align: right;\n",
       "    }\n",
       "</style>\n",
       "<table border=\"1\" class=\"dataframe\">\n",
       "  <thead>\n",
       "    <tr style=\"text-align: right;\">\n",
       "      <th></th>\n",
       "      <th>site</th>\n",
       "      <th>lon</th>\n",
       "      <th>lat</th>\n",
       "      <th>elev</th>\n",
       "    </tr>\n",
       "  </thead>\n",
       "  <tbody>\n",
       "    <tr>\n",
       "      <th>0</th>\n",
       "      <td>Cuiaba</td>\n",
       "      <td>-56.070214</td>\n",
       "      <td>-15.555244</td>\n",
       "      <td>234.0</td>\n",
       "    </tr>\n",
       "    <tr>\n",
       "      <th>1</th>\n",
       "      <td>Alta_Floresta</td>\n",
       "      <td>-56.104453</td>\n",
       "      <td>-9.871339</td>\n",
       "      <td>277.0</td>\n",
       "    </tr>\n",
       "    <tr>\n",
       "      <th>2</th>\n",
       "      <td>Jamari</td>\n",
       "      <td>-63.068552</td>\n",
       "      <td>-9.199070</td>\n",
       "      <td>129.0</td>\n",
       "    </tr>\n",
       "    <tr>\n",
       "      <th>3</th>\n",
       "      <td>Tucson</td>\n",
       "      <td>-110.953003</td>\n",
       "      <td>32.233002</td>\n",
       "      <td>779.0</td>\n",
       "    </tr>\n",
       "    <tr>\n",
       "      <th>4</th>\n",
       "      <td>GSFC</td>\n",
       "      <td>-76.839833</td>\n",
       "      <td>38.992500</td>\n",
       "      <td>87.0</td>\n",
       "    </tr>\n",
       "  </tbody>\n",
       "</table>\n",
       "</div>"
      ],
      "text/plain": [
       "            site         lon        lat   elev\n",
       "0         Cuiaba  -56.070214 -15.555244  234.0\n",
       "1  Alta_Floresta  -56.104453  -9.871339  277.0\n",
       "2         Jamari  -63.068552  -9.199070  129.0\n",
       "3         Tucson -110.953003  32.233002  779.0\n",
       "4           GSFC  -76.839833  38.992500   87.0"
      ]
     },
     "execution_count": 12,
     "metadata": {},
     "output_type": "execute_result"
    }
   ],
   "source": [
    "# Make easier to write\n",
    "stationList.columns = ['site', 'lon', 'lat', 'elev']\n",
    "\n",
    "# List the first few rows\n",
    "stationList[0:5]"
   ]
  },
  {
   "cell_type": "markdown",
   "metadata": {
    "slideshow": {
     "slide_type": "slide"
    }
   },
   "source": [
    "<div class=\"alert alert-block alert-info\">\n",
    "\n",
    "# Exercise 2\n",
    "\n",
    "## Import ascii file\n",
    "\n",
    "* From the data folder, import \"20180801_20180831_PNNL_lev15.csv\" using the pandas read_csv command. Assign it to a variable.\n",
    "    * HINT: You might need to check out the file path with respect to your notebook location.\n",
    "* What are the column names?\n",
    "</div>"
   ]
  },
  {
   "cell_type": "markdown",
   "metadata": {
    "slideshow": {
     "slide_type": "slide"
    }
   },
   "source": [
    "## Basic Plotting with MatplotLib\n",
    "\n",
    "Common (simple) tasks in NOAA operations...\n",
    "\n",
    "* Histograms\n",
    "* Time series\n",
    "* Taking averages, computing the bias"
   ]
  },
  {
   "cell_type": "code",
   "execution_count": 13,
   "metadata": {
    "slideshow": {
     "slide_type": "subslide"
    }
   },
   "outputs": [],
   "source": [
    "# Matplotlib\n",
    "from matplotlib import pyplot as plt\n",
    "\n",
    "# Options to print figures into notebook/increase size\n",
    "# Only necessary for jupyter notebooks\n",
    "%matplotlib inline\n",
    "plt.rcParams['figure.figsize'] = [12, 6]\n",
    "plt.rcParams.update({'font.size': 16})"
   ]
  },
  {
   "cell_type": "code",
   "execution_count": 14,
   "metadata": {
    "slideshow": {
     "slide_type": "subslide"
    }
   },
   "outputs": [
    {
     "data": {
      "image/png": "[encoded data removed]",
      "text/plain": [
       "<Figure size 864x432 with 1 Axes>"
      ]
     },
     "metadata": {
      "needs_background": "light"
     },
     "output_type": "display_data"
    }
   ],
   "source": [
    "# Create a histogram with 50 bins\n",
    "plt.hist(stationList[\"lat\"], bins=50)\n",
    "plt.title(\"Aeronet Station Locations\")\n",
    "plt.ylabel(\"Frequency\")\n",
    "plt.xlabel(\"Latitude\")\n",
    "plt.show()"
   ]
  },
  {
   "cell_type": "markdown",
   "metadata": {
    "slideshow": {
     "slide_type": "slide"
    }
   },
   "source": [
    "### Time series data\n",
    "\n",
    "Need to tell python the date strings in the file are dates/times."
   ]
  },
  {
   "cell_type": "code",
   "execution_count": 15,
   "metadata": {
    "slideshow": {
     "slide_type": "subslide"
    }
   },
   "outputs": [],
   "source": [
    "groundStationPNNL = pd.read_csv('data/20180801_20180831_PNNL_lev15.csv')"
   ]
  },
  {
   "cell_type": "code",
   "execution_count": 16,
   "metadata": {
    "slideshow": {
     "slide_type": "subslide"
    }
   },
   "outputs": [],
   "source": [
    "# Convert the string dates and times to date format (Note: \\ continues to new line)\n",
    "groundStationPNNL['datetime'] = groundStationPNNL['Date(dd:mm:yyyy)'] + ' ' + groundStationPNNL['Time(hh:mm:ss)']\n",
    "\n",
    "# Explicitly declare the format (for the full list, see http://strftime.org)\n",
    "fmt = '%d:%m:%Y %H:%M:%S'\n",
    "groundStationPNNL['datetime'] = pd.to_datetime(groundStationPNNL['datetime'], format=fmt)"
   ]
  },
  {
   "cell_type": "markdown",
   "metadata": {
    "slideshow": {
     "slide_type": "slide"
    }
   },
   "source": [
    "### To plot a single variable\n",
    "\n",
    "* Add the data using plt.plot(x='X Column Name', y='Y Column Name')"
   ]
  },
  {
   "cell_type": "markdown",
   "metadata": {
    "slideshow": {
     "slide_type": "slide"
    }
   },
   "source": [
    "<div class=\"alert alert-block alert-info\">\n",
    "\n",
    "# Exercise 3\n",
    "\n",
    "\n",
    "??? = Fill in the blank!\n",
    "\n",
    "\n",
    "## Create a histogram\n",
    "\n",
    "* Import the aeronet station list and locations from the file aeronet_locations_v3.txt using the pandas read_csv command.\n",
    "* Plot a histogram of the longitude distribution of stations using the ???.hist(???) command\n",
    "\n",
    "## Challenge: Create a time series plot\n",
    "\n",
    "* Import time series data from 20180801_20180831_PNNL_lev15.csv.\n",
    "* Create a new column in the dataframe with a string that combines the dates and times\n",
    "* Convert the string of dates and times to datetime format using the pandas to_datetime command. \n",
    "    * Note: Explicitly specify the format of the dates and times in the string for pandas to parse.\n",
    "* Use the ???.plot(x=???, y=???) to create a plot.\n",
    "</div>"
   ]
  },
  {
   "cell_type": "markdown",
   "metadata": {
    "slideshow": {
     "slide_type": "slide"
    }
   },
   "source": [
    "### Main steps for creating two side-by-side plots\n",
    "\n",
    "* Before writing your plt.plot code, add:\n",
    "plt.subplot( __row number__ , __column number__ , __position of the plot__ )\n",
    "\n",
    "* Call plt.plot() and fill in the x and y variables for the first line/data series on the plot\n",
    "* Call plt.sunplot again, increment the position of plot number\n",
    "* Add in any aesthetics, such as rotating the axes, labels, and adding a legend\n",
    "* Show the plot using plt.show()\n",
    "\n",
    "Example: \n",
    "* plt.subplot(2,1,1) places the plot in the first position of a two row, one column stack of plots.\n",
    "* plt.subplot(1,2,2) places the plot in the second position of a two column, one row of plots next to each other."
   ]
  },
  {
   "cell_type": "code",
   "execution_count": 24,
   "metadata": {
    "slideshow": {
     "slide_type": "subslide"
    }
   },
   "outputs": [
    {
     "data": {
      "image/png": "[encoded data removed]",
      "text/plain": [
       "<Figure size 864x432 with 2 Axes>"
      ]
     },
     "metadata": {
      "needs_background": "light"
     },
     "output_type": "display_data"
    }
   ],
   "source": [
    "# Call the subplot - in column one, write the AOD_870nm plot\n",
    "plt.subplot(1,2,1)\n",
    "\n",
    "plt.plot(groundStationPNNL.datetime, groundStationPNNL.AOD_870nm)\n",
    "plt.xticks(rotation=35)\n",
    "plt.title('870nm')\n",
    "\n",
    "# Call the subplot - in column one, write the AOD_1020nm plot\n",
    "plt.subplot(1,2,2)\n",
    "plt.plot(groundStationPNNL.datetime, groundStationPNNL.AOD_1020nm)\n",
    "plt.xticks(rotation=35)\n",
    "plt.title('1020nm')\n",
    "\n",
    "plt.show()"
   ]
  },
  {
   "cell_type": "markdown",
   "metadata": {
    "slideshow": {
     "slide_type": "slide"
    }
   },
   "source": [
    "### Main steps to combining the plots:\n",
    "\n",
    "* Call plt.plot() and fill in the x and y variables for EACH line/data series on the plot\n",
    "* Add in any aesthetics, such as rotating the axes, labels, and adding a legend\n",
    "* Show the plot using plt.show()"
   ]
  },
  {
   "cell_type": "code",
   "execution_count": null,
   "metadata": {},
   "outputs": [],
   "source": [
    "# Question: How to I make separate plots?\n",
    "plt.plot(groundStationPNNL.datetime, groundStationPNNL.AOD_870nm)\n",
    "plt.plot(groundStationPNNL.datetime, groundStationPNNL.AOD_1020nm)\n",
    "plt.xticks(rotation=35)\n",
    "plt.legend(['870nm', '1020nm'])\n",
    "plt.show()"
   ]
  },
  {
   "cell_type": "markdown",
   "metadata": {
    "slideshow": {
     "slide_type": "slide"
    }
   },
   "source": [
    "### Filtering Data\n",
    "Sometimes there are values we don't want in our plots, e.g. missing data values of -999.0"
   ]
  },
  {
   "cell_type": "code",
   "execution_count": null,
   "metadata": {
    "slideshow": {
     "slide_type": "subslide"
    }
   },
   "outputs": [],
   "source": [
    "# The following plot is not very useful because the missing values are being added..\n",
    "plt.plot(groundStationPNNL.datetime, groundStationPNNL.AOD_1640nm)\n",
    "plt.xticks(rotation=35)\n",
    "plt.legend()\n",
    "plt.show()"
   ]
  },
  {
   "cell_type": "code",
   "execution_count": null,
   "metadata": {
    "slideshow": {
     "slide_type": "subslide"
    }
   },
   "outputs": [],
   "source": [
    "plt.plot(groundStationPNNL.datetime, groundStationPNNL.AOD_870nm)\n",
    "plt.plot(groundStationPNNL.datetime, groundStationPNNL.AOD_1020nm)\n",
    "\n",
    "# Filter out missing values by only using aeronetStaPNNL['AOD_1640nm'] > 0\n",
    "keepRows = groundStationPNNL['AOD_1640nm'] >= 0\n",
    "plt.plot(groundStationPNNL[keepRows].datetime, groundStationPNNL[keepRows].AOD_1640nm)\n",
    "plt.legend()\n",
    "plt.xticks(rotation=35)\n",
    "\n",
    "plt.show()"
   ]
  },
  {
   "cell_type": "markdown",
   "metadata": {
    "slideshow": {
     "slide_type": "slide"
    }
   },
   "source": [
    "## netCDF4\n",
    "netCDF files organize data into groups, which are organized like directories in a filesystem. The groups are containers for variables, dimensions and attributes. \n",
    "\n",
    "The netCDF4 package is included in Anaconda Python. The main function is Dataset, which reads from an existing file:\n",
    "```\n",
    "file_id = Dataset(\"test.nc\", \"r\", format=\"NETCDF4\")\n",
    "```\n",
    "You can choose to 'w' (write), 'r' (read), or 'a'\n",
    "\n",
    "The foramts can be: NETCDF3_CLASSIC, NETCDF3_64BIT_OFFSET, NETCDF3_64BIT_DATA, NETCDF4_CLASSIC, and NETCDF4 (default)"
   ]
  },
  {
   "cell_type": "code",
   "execution_count": 25,
   "metadata": {
    "slideshow": {
     "slide_type": "subslide"
    }
   },
   "outputs": [],
   "source": [
    "from netCDF4 import Dataset\n",
    "\n",
    "# Note: if you are seeing errors, try re-launchng jupyter notebooks \n",
    "# from the terminal instead of anaconda navigator"
   ]
  },
  {
   "cell_type": "code",
   "execution_count": 31,
   "metadata": {
    "scrolled": true,
    "slideshow": {
     "slide_type": "subslide"
    }
   },
   "outputs": [
    {
     "data": {
      "text/plain": [
       "odict_keys(['Latitude', 'Longitude', 'StartRow', 'StartColumn', 'AOD550', 'AOD_channel', 'AngsExp1', 'AngsExp2', 'QCPath', 'AerMdl', 'FineMdlIdx', 'CoarseMdlIdx', 'FineModWgt', 'SfcRefl', 'SpaStddev', 'Residual', 'AOD550LndMdl', 'ResLndMdl', 'MeanAOD', 'HighQualityPct', 'RetrievalPct', 'QCRet', 'QCExtn', 'QCTest', 'QCInput', 'QCAll'])"
      ]
     },
     "execution_count": 31,
     "metadata": {},
     "output_type": "execute_result"
    }
   ],
   "source": [
    "# To open the files, call the Dataset constructor\n",
    "file_id = Dataset('data/JRR-AOD_v1r1_npp_s201808091957192_e201808091958434_c201808092051240.nc')\n",
    "\n",
    "# Quickly inspect the contents\n",
    "file_id.variables.keys()"
   ]
  },
  {
   "cell_type": "code",
   "execution_count": null,
   "metadata": {
    "slideshow": {
     "slide_type": "subslide"
    }
   },
   "outputs": [],
   "source": [
    "# Copy the AOD variable and the latitude and longitude coordinates into arrays object using .variables\n",
    "AOD550 = file_id.variables['AOD550']"
   ]
  },
  {
   "cell_type": "code",
   "execution_count": 28,
   "metadata": {
    "slideshow": {
     "slide_type": "subslide"
    }
   },
   "outputs": [
    {
     "data": {
      "text/plain": [
       "['long_name', 'coordinates', 'units', '_FillValue', 'valid_range']"
      ]
     },
     "execution_count": 28,
     "metadata": {},
     "output_type": "execute_result"
    }
   ],
   "source": [
    "# Inspect attributes using .ncattrs command\n",
    "file_id.variables['AOD550'].ncattrs()"
   ]
  },
  {
   "cell_type": "code",
   "execution_count": null,
   "metadata": {
    "slideshow": {
     "slide_type": "subslide"
    }
   },
   "outputs": [],
   "source": [
    "# Get some very simple statistics by converting into a NumPy array\n",
    "AOD550 = np.array(AOD550)\n",
    "\n",
    "# Remove missing values\n",
    "missing = file_id.variables['AOD550']._FillValue\n",
    "keepRows = AOD550 != missing\n",
    "AOD550 = AOD550[keepRows]\n",
    "\n",
    "avgAOD = AOD550.mean()\n",
    "stdDev = AOD550.std()\n",
    "nAOD = AOD550.size\n",
    "\n",
    "print(avgAOD, stdDev, nAOD)"
   ]
  },
  {
   "cell_type": "markdown",
   "metadata": {
    "slideshow": {
     "slide_type": "slide"
    }
   },
   "source": [
    "<div class=\"alert alert-block alert-info\">\n",
    "\n",
    "# Exercise 4\n",
    "\n",
    "## Import netCDF file\n",
    "From the data folder, import \"JRR-AOD_v1r1_npp_s201808091957192_e201808091958434_c201808092051240\" using the Dataset command from the netcdf4 package.\n",
    "\n",
    "## Inspect the list of variables\n",
    "Get a list of variables after the file has been opening.\n",
    "\n",
    "## Inspect the attributes of a given variable\n",
    "What are the attributes of the QCAll variable?\n",
    "\n",
    "</div>"
   ]
  },
  {
   "cell_type": "markdown",
   "metadata": {
    "slideshow": {
     "slide_type": "slide"
    }
   },
   "source": [
    "## Closing up\n",
    "I am available by email: rebekah.esmaili@gmail.com\n",
    "\n",
    "* Some (free!) ways to learn: \n",
    "    * [CS Dojo](https://www.youtube.com/watch?v=Z1Yd7upQsXY&list=PLBZBJbE_rGRWeh5mIBhD-hhDwSEDxogDg) Youtube series for absolute beginners\n",
    "    * [Automate boring stuff](https://automatetheboringstuff.com)\n",
    "    * [Codeacademy](https://www.codecademy.com/learn/learn-python)\n",
    "    * [Local Meetups](https://www.meetup.com/find/tech/)\n",
    "    * Start a NOAA Python Club!\n",
    "\n",
    "Next session: Friday, Nov 9th 9:30-11:30am\n",
    "\n",
    "## Thank you!\n",
    "I hope you enjoyed this crash course in python in remote sensing applications! Please give us feedback."
   ]
  }
 ],
 "metadata": {
  "celltoolbar": "Slideshow",
  "kernelspec": {
   "display_name": "Python 3",
   "language": "python",
   "name": "python3"
  },
  "language_info": {
   "codemirror_mode": {
    "name": "ipython",
    "version": 3
   },
   "file_extension": ".py",
   "mimetype": "text/x-python",
   "name": "python",
   "nbconvert_exporter": "python",
   "pygments_lexer": "ipython3",
   "version": "3.5.6"
  }
 },
 "nbformat": 4,
 "nbformat_minor": 2
}
