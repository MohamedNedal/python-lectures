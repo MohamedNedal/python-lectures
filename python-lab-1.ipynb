{
 "cells": [
  {
   "cell_type": "markdown",
   "metadata": {
    "slideshow": {
     "slide_type": "slide"
    }
   },
   "source": [
    "# Python Lab 1: Read, Write, Vizualize!"
   ]
  },
  {
   "cell_type": "markdown",
   "metadata": {
    "slideshow": {
     "slide_type": "slide"
    }
   },
   "source": [
    "## Agenda\n",
    "\n",
    "1. Why Python?\n",
    "2. Objectives\n",
    "3. Setting up your development environment\n",
    "4. Reading and writing tabular data with the Numpy library\n",
    "5. Encapsulating data with the Pandas library\n",
    "6. Plotting with the Matplotlib library\n",
    "7. Working with NetCDF and HDF"
   ]
  },
  {
   "cell_type": "markdown",
   "metadata": {
    "slideshow": {
     "slide_type": "slide"
    }
   },
   "source": [
    "## Why Python?\n",
    "\n",
    "Pros\n",
    "* General-purpose, cross-platform\n",
    "* Free and open source\n",
    "* Resaonably easy to learn, good statistical/visualization libraries\n",
    "* Forces good syntax\n",
    "* Reads satellite data formats like HDF, NetCDF, GRIB\n",
    "\n",
    "Cons\n",
    "* Performance penalties for interpretted languages (although cython and f2py libriries can be used)\n",
    "* Libraries are a \"black box\" and can be discontinued\n",
    "\n",
    "Other options:\n",
    "* R: Specialized for statistics but prevalent in earth sciences. Python has borrowed some of the best R features (e.g. data frames).\n",
    "* Fortran/C++: Most common in algorithm development, lots of legacy code. Speed +100, coding productivity -100 \n",
    "* Matlab: License expensive (Octave is a reasonable alternative)\n",
    "* IDL: Licenses expensive, there are better options out there"
   ]
  },
  {
   "cell_type": "markdown",
   "metadata": {
    "slideshow": {
     "slide_type": "slide"
    }
   },
   "source": [
    "## Objective: working with satellite datasets\n",
    "\n",
    "* You won't learn how to code in Python\n",
    "\t* Some (free!) ways to learn: [automate boring stuff](Automate the Boring Stuff with Python), [codeacademy](https://www.codecademy.com/learn/learn-python), [find Meetups](https://www.meetup.com/find/tech/) or start your own!\n",
    "* You will learn to:\n",
    "\t* Read/write satellite datasets\n",
    "\t* Plot datasets\n",
    "\t* Perform re-gridding, merging, averaging, filtering"
   ]
  },
  {
   "cell_type": "markdown",
   "metadata": {
    "slideshow": {
     "slide_type": "slide"
    }
   },
   "source": [
    "## Development environments: How do I Python?\n",
    "* Spyder: most Matlab-like\n",
    "* Text editor + command line\n",
    "* Jupyter notebooks: web based, can launch in browser"
   ]
  },
  {
   "cell_type": "markdown",
   "metadata": {
    "slideshow": {
     "slide_type": "slide"
    }
   },
   "source": [
    "## Launching Jupyter Notebook\n",
    "You need *Anaconda Python* installed! You can also [install with pip](http://jupyter.org/install.html), but you're on your own.\n",
    "\n",
    "### Macs/Unix:\n",
    "* Open terminal, and type:\n",
    "```\n",
    "cd to/the/directory/\n",
    "jupyter notebook    \n",
    "```\n",
    "\n",
    "### Windows:\n",
    "* Open Anaconda Prompt\n",
    "```\n",
    "cd to\\the\\directory\\\n",
    "jupyter notebook    \n",
    "```\n",
    "\n",
    "### NOAA/STAR Laptops\n",
    "* Drag/drop \"Jupyter Notebooks\" icon from the start menu to the folder where you have your Desktop.\n",
    "* Double click"
   ]
  },
  {
   "cell_type": "markdown",
   "metadata": {
    "slideshow": {
     "slide_type": "slide"
    }
   },
   "source": [
    "## Launching Jupyter Notebook\n",
    "\n",
    "This will launch your default web browser with a local webserver that displays the contents of the directory that you're working in. \n",
    "\n",
    "Click on New on the top right:\n",
    "![](img/ipython-notebook.PNG)\n",
    "\n",
    "You can edit and run code directly in this notebook (similar to Mathematica):"
   ]
  },
  {
   "cell_type": "code",
   "execution_count": null,
   "metadata": {},
   "outputs": [],
   "source": []
  },
  {
   "cell_type": "code",
   "execution_count": null,
   "metadata": {
    "slideshow": {
     "slide_type": "slide"
    }
   },
   "outputs": [],
   "source": [
    "# This is a comment\n",
    "print(\"hello world\")\n",
    "\n",
    "# This is math\n",
    "2+2\n",
    "\n",
    "# This is an array\n",
    "test=[1, 2, 3, 4]\n",
    "\n",
    "# This will show me the array\n",
    "print(test)\n",
    "\n",
    "# This is a function (note the TAB!)\n",
    "def Farenheit2Celsius(F):\n",
    "    return (F-32)*5/9\n",
    "\n",
    "# This calls the function\n",
    "Farenheit2Celsius(32)"
   ]
  },
  {
   "cell_type": "markdown",
   "metadata": {
    "slideshow": {
     "slide_type": "slide"
    }
   },
   "source": [
    "## Importing libraries\n",
    "Packages/libraries give us additional functionality, saving us the trouble of writing procedures ourselves. One of the most popular in scientific computing is [numpy](http://www.numpy.org/)"
   ]
  },
  {
   "cell_type": "code",
   "execution_count": 4,
   "metadata": {},
   "outputs": [],
   "source": [
    "import numpy as np"
   ]
  },
  {
   "cell_type": "markdown",
   "metadata": {
    "slideshow": {
     "slide_type": "slide"
    }
   },
   "source": [
    "## Numpy\n",
    "\n",
    "The \"as np\" part is optional, but is a good practice so you know where the functions come from.\n",
    "\n",
    "## Defining Arrays\n",
    "```python\n",
    "a = np.arange(15).reshape(3, 5)\n",
    "a.shape\n",
    "a.size\n",
    "```\n",
    "Note: if you do not assign the operation to a variable, then it will print to the screen and NOT be stored.\n",
    "\n",
    "## Array operations\n",
    "```python\n",
    "b = np.arange(12).reshape(3,4)\n",
    "b\n",
    "# Sum along rows\n",
    "b.sum(axis=0)\n",
    "# Get the minimum value along columns\n",
    "b.min(axis=1)\n",
    "# Boolean operations\n",
    "b>1\n",
    "```\n",
    "For more examples, work through the: [Numpy Quickstart](https://docs.scipy.org/doc/numpy/user/quickstart.html)"
   ]
  },
  {
   "cell_type": "markdown",
   "metadata": {
    "slideshow": {
     "slide_type": "slide"
    }
   },
   "source": [
    "# Pandas\n",
    "* A library that helps encapsulate data\n",
    "* Comparable to data frames in R, structures in IDL, namespaces in C++ and modern Fortran\n",
    "\n",
    "Pros:\n",
    "* You can name columns and refence by labels instead of indices like in numpy arrays\n",
    "* This also makes performing group operations easier and more readable\n",
    "\n",
    "Cons:\n",
    "* Pandas is a wrapper for Numpy, so there is some efficiency overhead\n",
    "* Numpy arrays are better for referncing datasets > 2D"
   ]
  },
  {
   "cell_type": "code",
   "execution_count": 5,
   "metadata": {
    "slideshow": {
     "slide_type": "subslide"
    }
   },
   "outputs": [],
   "source": [
    "import pandas as pd\n",
    "\n",
    "url = 'https://aeronet.gsfc.nasa.gov/aeronet_locations_v3.txt'\n",
    "stationList = pd.read_csv(url, skiprows=1)"
   ]
  },
  {
   "cell_type": "code",
   "execution_count": 3,
   "metadata": {
    "slideshow": {
     "slide_type": "subslide"
    }
   },
   "outputs": [
    {
     "data": {
      "text/plain": [
       "['Site_Name',\n",
       " 'Longitude(decimal_degrees)',\n",
       " 'Latitude(decimal_degrees)',\n",
       " 'Elevation(meters)']"
      ]
     },
     "execution_count": 3,
     "metadata": {},
     "output_type": "execute_result"
    }
   ],
   "source": [
    "# Show column names - kind of ugly\n",
    "list(stationList)"
   ]
  },
  {
   "cell_type": "code",
   "execution_count": 6,
   "metadata": {
    "slideshow": {
     "slide_type": "subslide"
    }
   },
   "outputs": [
    {
     "data": {
      "text/html": [
       "<div>\n",
       "<style scoped>\n",
       "    .dataframe tbody tr th:only-of-type {\n",
       "        vertical-align: middle;\n",
       "    }\n",
       "\n",
       "    .dataframe tbody tr th {\n",
       "        vertical-align: top;\n",
       "    }\n",
       "\n",
       "    .dataframe thead th {\n",
       "        text-align: right;\n",
       "    }\n",
       "</style>\n",
       "<table border=\"1\" class=\"dataframe\">\n",
       "  <thead>\n",
       "    <tr style=\"text-align: right;\">\n",
       "      <th></th>\n",
       "      <th>site</th>\n",
       "      <th>lon</th>\n",
       "      <th>lat</th>\n",
       "      <th>elev</th>\n",
       "    </tr>\n",
       "  </thead>\n",
       "  <tbody>\n",
       "    <tr>\n",
       "      <th>0</th>\n",
       "      <td>Cuiaba</td>\n",
       "      <td>-56.070214</td>\n",
       "      <td>-15.555244</td>\n",
       "      <td>234.00</td>\n",
       "    </tr>\n",
       "    <tr>\n",
       "      <th>1</th>\n",
       "      <td>Alta_Floresta</td>\n",
       "      <td>-56.104453</td>\n",
       "      <td>-9.871339</td>\n",
       "      <td>277.00</td>\n",
       "    </tr>\n",
       "    <tr>\n",
       "      <th>2</th>\n",
       "      <td>Jamari</td>\n",
       "      <td>-63.068552</td>\n",
       "      <td>-9.199070</td>\n",
       "      <td>129.00</td>\n",
       "    </tr>\n",
       "    <tr>\n",
       "      <th>3</th>\n",
       "      <td>Tucson</td>\n",
       "      <td>-110.953003</td>\n",
       "      <td>32.233002</td>\n",
       "      <td>779.00</td>\n",
       "    </tr>\n",
       "    <tr>\n",
       "      <th>4</th>\n",
       "      <td>GSFC</td>\n",
       "      <td>-76.839833</td>\n",
       "      <td>38.992500</td>\n",
       "      <td>87.00</td>\n",
       "    </tr>\n",
       "    <tr>\n",
       "      <th>5</th>\n",
       "      <td>Kolfield</td>\n",
       "      <td>-74.476387</td>\n",
       "      <td>39.802223</td>\n",
       "      <td>50.00</td>\n",
       "    </tr>\n",
       "    <tr>\n",
       "      <th>6</th>\n",
       "      <td>Porto_Nacional</td>\n",
       "      <td>-48.410000</td>\n",
       "      <td>-10.700000</td>\n",
       "      <td>210.00</td>\n",
       "    </tr>\n",
       "    <tr>\n",
       "      <th>7</th>\n",
       "      <td>Brasilia</td>\n",
       "      <td>-47.900002</td>\n",
       "      <td>-15.917000</td>\n",
       "      <td>1100.00</td>\n",
       "    </tr>\n",
       "    <tr>\n",
       "      <th>8</th>\n",
       "      <td>Harvard_Forest</td>\n",
       "      <td>-72.188000</td>\n",
       "      <td>42.532000</td>\n",
       "      <td>339.00</td>\n",
       "    </tr>\n",
       "    <tr>\n",
       "      <th>9</th>\n",
       "      <td>Wallops</td>\n",
       "      <td>-75.471950</td>\n",
       "      <td>37.932850</td>\n",
       "      <td>37.00</td>\n",
       "    </tr>\n",
       "    <tr>\n",
       "      <th>10</th>\n",
       "      <td>Hampton_Roads</td>\n",
       "      <td>-76.449997</td>\n",
       "      <td>36.783333</td>\n",
       "      <td>10.00</td>\n",
       "    </tr>\n",
       "    <tr>\n",
       "      <th>11</th>\n",
       "      <td>Hagerstown</td>\n",
       "      <td>-77.724998</td>\n",
       "      <td>39.708332</td>\n",
       "      <td>200.00</td>\n",
       "    </tr>\n",
       "    <tr>\n",
       "      <th>12</th>\n",
       "      <td>Hog_Island</td>\n",
       "      <td>-75.675000</td>\n",
       "      <td>37.453000</td>\n",
       "      <td>15.00</td>\n",
       "    </tr>\n",
       "    <tr>\n",
       "      <th>13</th>\n",
       "      <td>Tukurui</td>\n",
       "      <td>-49.683331</td>\n",
       "      <td>-3.716666</td>\n",
       "      <td>100.00</td>\n",
       "    </tr>\n",
       "    <tr>\n",
       "      <th>14</th>\n",
       "      <td>Arizona</td>\n",
       "      <td>-110.788002</td>\n",
       "      <td>32.442001</td>\n",
       "      <td>2791.00</td>\n",
       "    </tr>\n",
       "    <tr>\n",
       "      <th>15</th>\n",
       "      <td>Santarem</td>\n",
       "      <td>-54.706000</td>\n",
       "      <td>-2.428584</td>\n",
       "      <td>25.00</td>\n",
       "    </tr>\n",
       "    <tr>\n",
       "      <th>16</th>\n",
       "      <td>Ussuriysk</td>\n",
       "      <td>132.163500</td>\n",
       "      <td>43.700400</td>\n",
       "      <td>280.00</td>\n",
       "    </tr>\n",
       "    <tr>\n",
       "      <th>17</th>\n",
       "      <td>Waskesiu</td>\n",
       "      <td>-106.069578</td>\n",
       "      <td>53.914386</td>\n",
       "      <td>569.00</td>\n",
       "    </tr>\n",
       "    <tr>\n",
       "      <th>18</th>\n",
       "      <td>Ariquiums</td>\n",
       "      <td>-63.033332</td>\n",
       "      <td>-9.916667</td>\n",
       "      <td>142.00</td>\n",
       "    </tr>\n",
       "    <tr>\n",
       "      <th>19</th>\n",
       "      <td>JamTown</td>\n",
       "      <td>-63.179800</td>\n",
       "      <td>-9.190911</td>\n",
       "      <td>101.00</td>\n",
       "    </tr>\n",
       "    <tr>\n",
       "      <th>20</th>\n",
       "      <td>Key_Biscayne</td>\n",
       "      <td>-80.163330</td>\n",
       "      <td>25.731966</td>\n",
       "      <td>10.00</td>\n",
       "    </tr>\n",
       "    <tr>\n",
       "      <th>21</th>\n",
       "      <td>Sevilleta</td>\n",
       "      <td>-106.885002</td>\n",
       "      <td>34.354721</td>\n",
       "      <td>1477.00</td>\n",
       "    </tr>\n",
       "    <tr>\n",
       "      <th>22</th>\n",
       "      <td>Hawaii</td>\n",
       "      <td>-156.253233</td>\n",
       "      <td>20.710029</td>\n",
       "      <td>3050.00</td>\n",
       "    </tr>\n",
       "    <tr>\n",
       "      <th>23</th>\n",
       "      <td>CART_SITE</td>\n",
       "      <td>-97.486390</td>\n",
       "      <td>36.606670</td>\n",
       "      <td>318.00</td>\n",
       "    </tr>\n",
       "    <tr>\n",
       "      <th>24</th>\n",
       "      <td>Cart_Site</td>\n",
       "      <td>-97.486390</td>\n",
       "      <td>36.606670</td>\n",
       "      <td>318.00</td>\n",
       "    </tr>\n",
       "    <tr>\n",
       "      <th>25</th>\n",
       "      <td>NSA_YJP_BOREAS</td>\n",
       "      <td>-98.290001</td>\n",
       "      <td>55.903000</td>\n",
       "      <td>290.00</td>\n",
       "    </tr>\n",
       "    <tr>\n",
       "      <th>26</th>\n",
       "      <td>FLIN_FLON</td>\n",
       "      <td>-101.690002</td>\n",
       "      <td>54.669998</td>\n",
       "      <td>305.00</td>\n",
       "    </tr>\n",
       "    <tr>\n",
       "      <th>27</th>\n",
       "      <td>SSA_YJP_BOREAS</td>\n",
       "      <td>-104.650002</td>\n",
       "      <td>53.674999</td>\n",
       "      <td>490.00</td>\n",
       "    </tr>\n",
       "    <tr>\n",
       "      <th>28</th>\n",
       "      <td>PRINCE_ALBERT</td>\n",
       "      <td>-105.699997</td>\n",
       "      <td>53.200001</td>\n",
       "      <td>425.00</td>\n",
       "    </tr>\n",
       "    <tr>\n",
       "      <th>29</th>\n",
       "      <td>Bonanza_Creek</td>\n",
       "      <td>-148.316269</td>\n",
       "      <td>64.742805</td>\n",
       "      <td>353.00</td>\n",
       "    </tr>\n",
       "    <tr>\n",
       "      <th>...</th>\n",
       "      <td>...</td>\n",
       "      <td>...</td>\n",
       "      <td>...</td>\n",
       "      <td>...</td>\n",
       "    </tr>\n",
       "    <tr>\n",
       "      <th>1414</th>\n",
       "      <td>Welgegund</td>\n",
       "      <td>26.939167</td>\n",
       "      <td>-26.569444</td>\n",
       "      <td>1480.00</td>\n",
       "    </tr>\n",
       "    <tr>\n",
       "      <th>1415</th>\n",
       "      <td>BMKG_GAW_PALU</td>\n",
       "      <td>120.182900</td>\n",
       "      <td>-1.650300</td>\n",
       "      <td>1449.00</td>\n",
       "    </tr>\n",
       "    <tr>\n",
       "      <th>1416</th>\n",
       "      <td>Hart_Miller_Island</td>\n",
       "      <td>-76.362800</td>\n",
       "      <td>39.241900</td>\n",
       "      <td>5.00</td>\n",
       "    </tr>\n",
       "    <tr>\n",
       "      <th>1417</th>\n",
       "      <td>Antikythera_NOA</td>\n",
       "      <td>23.309820</td>\n",
       "      <td>35.860990</td>\n",
       "      <td>193.00</td>\n",
       "    </tr>\n",
       "    <tr>\n",
       "      <th>1418</th>\n",
       "      <td>Majadas</td>\n",
       "      <td>-5.775914</td>\n",
       "      <td>39.955031</td>\n",
       "      <td>258.00</td>\n",
       "    </tr>\n",
       "    <tr>\n",
       "      <th>1419</th>\n",
       "      <td>Point_Mugu_Alpha</td>\n",
       "      <td>-119.118019</td>\n",
       "      <td>34.098159</td>\n",
       "      <td>8.40</td>\n",
       "    </tr>\n",
       "    <tr>\n",
       "      <th>1420</th>\n",
       "      <td>Naalehu_Elementary</td>\n",
       "      <td>-155.578983</td>\n",
       "      <td>19.060874</td>\n",
       "      <td>196.00</td>\n",
       "    </tr>\n",
       "    <tr>\n",
       "      <th>1421</th>\n",
       "      <td>HBOI</td>\n",
       "      <td>-80.356900</td>\n",
       "      <td>27.534300</td>\n",
       "      <td>5.00</td>\n",
       "    </tr>\n",
       "    <tr>\n",
       "      <th>1422</th>\n",
       "      <td>PSDA_Chile</td>\n",
       "      <td>-69.929028</td>\n",
       "      <td>-24.090306</td>\n",
       "      <td>965.00</td>\n",
       "    </tr>\n",
       "    <tr>\n",
       "      <th>1423</th>\n",
       "      <td>ETNA_VENA</td>\n",
       "      <td>15.138600</td>\n",
       "      <td>37.790500</td>\n",
       "      <td>735.00</td>\n",
       "    </tr>\n",
       "    <tr>\n",
       "      <th>1424</th>\n",
       "      <td>Yale_Coastal</td>\n",
       "      <td>-72.731200</td>\n",
       "      <td>41.258300</td>\n",
       "      <td>0.00</td>\n",
       "    </tr>\n",
       "    <tr>\n",
       "      <th>1425</th>\n",
       "      <td>Punta_Arenas_UMAG</td>\n",
       "      <td>-70.884500</td>\n",
       "      <td>-53.135400</td>\n",
       "      <td>25.00</td>\n",
       "    </tr>\n",
       "    <tr>\n",
       "      <th>1426</th>\n",
       "      <td>Irbe_Lighthouse</td>\n",
       "      <td>21.722970</td>\n",
       "      <td>57.750920</td>\n",
       "      <td>38.00</td>\n",
       "    </tr>\n",
       "    <tr>\n",
       "      <th>1427</th>\n",
       "      <td>Reykjavik</td>\n",
       "      <td>-21.903700</td>\n",
       "      <td>64.127800</td>\n",
       "      <td>51.00</td>\n",
       "    </tr>\n",
       "    <tr>\n",
       "      <th>1428</th>\n",
       "      <td>KEMPTEN_UAS</td>\n",
       "      <td>10.314133</td>\n",
       "      <td>47.715833</td>\n",
       "      <td>718.00</td>\n",
       "    </tr>\n",
       "    <tr>\n",
       "      <th>1429</th>\n",
       "      <td>Pinehurst_Idaho</td>\n",
       "      <td>-116.236917</td>\n",
       "      <td>47.536739</td>\n",
       "      <td>680.00</td>\n",
       "    </tr>\n",
       "    <tr>\n",
       "      <th>1430</th>\n",
       "      <td>Kwajalein_Atoll</td>\n",
       "      <td>167.742808</td>\n",
       "      <td>8.847490</td>\n",
       "      <td>2.00</td>\n",
       "    </tr>\n",
       "    <tr>\n",
       "      <th>1431</th>\n",
       "      <td>Loch_Leven</td>\n",
       "      <td>-3.351650</td>\n",
       "      <td>56.188030</td>\n",
       "      <td>110.95</td>\n",
       "    </tr>\n",
       "    <tr>\n",
       "      <th>1432</th>\n",
       "      <td>SDU2018</td>\n",
       "      <td>-67.869500</td>\n",
       "      <td>-20.031800</td>\n",
       "      <td>3671.00</td>\n",
       "    </tr>\n",
       "    <tr>\n",
       "      <th>1433</th>\n",
       "      <td>Tres_Olivos</td>\n",
       "      <td>-3.688514</td>\n",
       "      <td>40.499111</td>\n",
       "      <td>721.00</td>\n",
       "    </tr>\n",
       "    <tr>\n",
       "      <th>1434</th>\n",
       "      <td>Barajas</td>\n",
       "      <td>-3.580576</td>\n",
       "      <td>40.465277</td>\n",
       "      <td>630.00</td>\n",
       "    </tr>\n",
       "    <tr>\n",
       "      <th>1435</th>\n",
       "      <td>Suertes</td>\n",
       "      <td>-3.605795</td>\n",
       "      <td>40.371644</td>\n",
       "      <td>639.00</td>\n",
       "    </tr>\n",
       "    <tr>\n",
       "      <th>1436</th>\n",
       "      <td>Cuatro_Vientos</td>\n",
       "      <td>-3.779692</td>\n",
       "      <td>40.370096</td>\n",
       "      <td>685.00</td>\n",
       "    </tr>\n",
       "    <tr>\n",
       "      <th>1437</th>\n",
       "      <td>ARM_Cordoba</td>\n",
       "      <td>-64.728370</td>\n",
       "      <td>-32.126410</td>\n",
       "      <td>1141.00</td>\n",
       "    </tr>\n",
       "    <tr>\n",
       "      <th>1438</th>\n",
       "      <td>NEON_YELL</td>\n",
       "      <td>-110.539140</td>\n",
       "      <td>44.953480</td>\n",
       "      <td>2116.00</td>\n",
       "    </tr>\n",
       "    <tr>\n",
       "      <th>1439</th>\n",
       "      <td>Payerne</td>\n",
       "      <td>6.942019</td>\n",
       "      <td>46.812408</td>\n",
       "      <td>491.00</td>\n",
       "    </tr>\n",
       "    <tr>\n",
       "      <th>1440</th>\n",
       "      <td>Lopburi</td>\n",
       "      <td>101.187361</td>\n",
       "      <td>15.266667</td>\n",
       "      <td>49.28</td>\n",
       "    </tr>\n",
       "    <tr>\n",
       "      <th>1441</th>\n",
       "      <td>Braccagni</td>\n",
       "      <td>11.079531</td>\n",
       "      <td>42.827746</td>\n",
       "      <td>7.00</td>\n",
       "    </tr>\n",
       "    <tr>\n",
       "      <th>1442</th>\n",
       "      <td>VirginiaTech</td>\n",
       "      <td>-80.424681</td>\n",
       "      <td>37.230775</td>\n",
       "      <td>690.00</td>\n",
       "    </tr>\n",
       "    <tr>\n",
       "      <th>1443</th>\n",
       "      <td>Montevideo_FING</td>\n",
       "      <td>-56.166767</td>\n",
       "      <td>-34.918167</td>\n",
       "      <td>71.00</td>\n",
       "    </tr>\n",
       "  </tbody>\n",
       "</table>\n",
       "<p>1444 rows × 4 columns</p>\n",
       "</div>"
      ],
      "text/plain": [
       "                    site         lon        lat     elev\n",
       "0                 Cuiaba  -56.070214 -15.555244   234.00\n",
       "1          Alta_Floresta  -56.104453  -9.871339   277.00\n",
       "2                 Jamari  -63.068552  -9.199070   129.00\n",
       "3                 Tucson -110.953003  32.233002   779.00\n",
       "4                   GSFC  -76.839833  38.992500    87.00\n",
       "5               Kolfield  -74.476387  39.802223    50.00\n",
       "6         Porto_Nacional  -48.410000 -10.700000   210.00\n",
       "7               Brasilia  -47.900002 -15.917000  1100.00\n",
       "8         Harvard_Forest  -72.188000  42.532000   339.00\n",
       "9                Wallops  -75.471950  37.932850    37.00\n",
       "10         Hampton_Roads  -76.449997  36.783333    10.00\n",
       "11            Hagerstown  -77.724998  39.708332   200.00\n",
       "12            Hog_Island  -75.675000  37.453000    15.00\n",
       "13               Tukurui  -49.683331  -3.716666   100.00\n",
       "14               Arizona -110.788002  32.442001  2791.00\n",
       "15              Santarem  -54.706000  -2.428584    25.00\n",
       "16             Ussuriysk  132.163500  43.700400   280.00\n",
       "17              Waskesiu -106.069578  53.914386   569.00\n",
       "18             Ariquiums  -63.033332  -9.916667   142.00\n",
       "19               JamTown  -63.179800  -9.190911   101.00\n",
       "20          Key_Biscayne  -80.163330  25.731966    10.00\n",
       "21             Sevilleta -106.885002  34.354721  1477.00\n",
       "22                Hawaii -156.253233  20.710029  3050.00\n",
       "23             CART_SITE  -97.486390  36.606670   318.00\n",
       "24             Cart_Site  -97.486390  36.606670   318.00\n",
       "25        NSA_YJP_BOREAS  -98.290001  55.903000   290.00\n",
       "26             FLIN_FLON -101.690002  54.669998   305.00\n",
       "27        SSA_YJP_BOREAS -104.650002  53.674999   490.00\n",
       "28         PRINCE_ALBERT -105.699997  53.200001   425.00\n",
       "29         Bonanza_Creek -148.316269  64.742805   353.00\n",
       "...                  ...         ...        ...      ...\n",
       "1414           Welgegund   26.939167 -26.569444  1480.00\n",
       "1415       BMKG_GAW_PALU  120.182900  -1.650300  1449.00\n",
       "1416  Hart_Miller_Island  -76.362800  39.241900     5.00\n",
       "1417     Antikythera_NOA   23.309820  35.860990   193.00\n",
       "1418             Majadas   -5.775914  39.955031   258.00\n",
       "1419    Point_Mugu_Alpha -119.118019  34.098159     8.40\n",
       "1420  Naalehu_Elementary -155.578983  19.060874   196.00\n",
       "1421                HBOI  -80.356900  27.534300     5.00\n",
       "1422          PSDA_Chile  -69.929028 -24.090306   965.00\n",
       "1423           ETNA_VENA   15.138600  37.790500   735.00\n",
       "1424        Yale_Coastal  -72.731200  41.258300     0.00\n",
       "1425   Punta_Arenas_UMAG  -70.884500 -53.135400    25.00\n",
       "1426     Irbe_Lighthouse   21.722970  57.750920    38.00\n",
       "1427           Reykjavik  -21.903700  64.127800    51.00\n",
       "1428         KEMPTEN_UAS   10.314133  47.715833   718.00\n",
       "1429     Pinehurst_Idaho -116.236917  47.536739   680.00\n",
       "1430     Kwajalein_Atoll  167.742808   8.847490     2.00\n",
       "1431          Loch_Leven   -3.351650  56.188030   110.95\n",
       "1432             SDU2018  -67.869500 -20.031800  3671.00\n",
       "1433         Tres_Olivos   -3.688514  40.499111   721.00\n",
       "1434             Barajas   -3.580576  40.465277   630.00\n",
       "1435             Suertes   -3.605795  40.371644   639.00\n",
       "1436      Cuatro_Vientos   -3.779692  40.370096   685.00\n",
       "1437         ARM_Cordoba  -64.728370 -32.126410  1141.00\n",
       "1438           NEON_YELL -110.539140  44.953480  2116.00\n",
       "1439             Payerne    6.942019  46.812408   491.00\n",
       "1440             Lopburi  101.187361  15.266667    49.28\n",
       "1441           Braccagni   11.079531  42.827746     7.00\n",
       "1442        VirginiaTech  -80.424681  37.230775   690.00\n",
       "1443     Montevideo_FING  -56.166767 -34.918167    71.00\n",
       "\n",
       "[1444 rows x 4 columns]"
      ]
     },
     "execution_count": 6,
     "metadata": {},
     "output_type": "execute_result"
    }
   ],
   "source": [
    "# Make easier to write\n",
    "stationList.columns = ['site', 'lon', 'lat', 'elev']\n",
    "stationList"
   ]
  },
  {
   "cell_type": "markdown",
   "metadata": {
    "slideshow": {
     "slide_type": "slide"
    }
   },
   "source": [
    "# Exercise: Import ascii file\n",
    "From the data folder, import \"20180801_20180831_PNNL_lev15.csv.\" What are the column names?"
   ]
  },
  {
   "cell_type": "markdown",
   "metadata": {
    "slideshow": {
     "slide_type": "slide"
    }
   },
   "source": [
    "## Basic Plotting\n",
    "\n",
    "Common (simple) tasks in remote sensing...\n",
    "* Histograms\n",
    "* Time series\n",
    "* Averaging, computing bias\n",
    "\n",
    "Matplotlib is a useful library.\n",
    "\n"
   ]
  },
  {
   "cell_type": "code",
   "execution_count": 17,
   "metadata": {
    "slideshow": {
     "slide_type": "subslide"
    }
   },
   "outputs": [
    {
     "data": {
      "image/png": "[encoded data removed]",
      "text/plain": [
       "<Figure size 432x288 with 1 Axes>"
      ]
     },
     "metadata": {
      "needs_background": "light"
     },
     "output_type": "display_data"
    }
   ],
   "source": [
    "# Matplotlib\n",
    "import numpy as np\n",
    "import matplotlib.pyplot as plt\n",
    "%matplotlib inline\n",
    "\n",
    "# Create a histogram with 50 bins\n",
    "plt.hist(stationList[\"lat\"], bins=50)\n",
    "plt.show()"
   ]
  },
  {
   "cell_type": "markdown",
   "metadata": {
    "slideshow": {
     "slide_type": "slide"
    }
   },
   "source": [
    "### Time series data\n",
    "\n",
    "Need to tell python the date strings in the file are dates/times."
   ]
  },
  {
   "cell_type": "code",
   "execution_count": null,
   "metadata": {
    "slideshow": {
     "slide_type": "subslide"
    }
   },
   "outputs": [],
   "source": []
  },
  {
   "cell_type": "code",
   "execution_count": null,
   "metadata": {
    "slideshow": {
     "slide_type": "slide"
    }
   },
   "outputs": [],
   "source": [
    "### Some aethetics"
   ]
  },
  {
   "cell_type": "markdown",
   "metadata": {
    "slideshow": {
     "slide_type": "slide"
    }
   },
   "source": [
    "# Exercise: Make a time series plot \n",
    "Use the data in \"20180801_20180831_PNNL_lev15.csv\""
   ]
  },
  {
   "cell_type": "markdown",
   "metadata": {
    "slideshow": {
     "slide_type": "slide"
    }
   },
   "source": [
    "## netCDF4\n",
    "There's a built in netCDF4 and HDF library.\n"
   ]
  },
  {
   "cell_type": "code",
   "execution_count": 18,
   "metadata": {
    "slideshow": {
     "slide_type": "subslide"
    }
   },
   "outputs": [],
   "source": [
    "from netCDF4 import Dataset\n",
    "\n",
    "# To open the files, use the Dataset command\n",
    "file_id = Dataset('data/JRR-AOD_v1r1_npp_s201808091955538_e201808091957180_c201808092049460.nc')\n",
    "\n",
    "# Then to inspect the contents, run the following:\n"
   ]
  },
  {
   "cell_type": "code",
   "execution_count": 19,
   "metadata": {
    "slideshow": {
     "slide_type": "subslide"
    }
   },
   "outputs": [],
   "source": [
    "# Copy the variable into an array object using .variables\n",
    "\n",
    "AOD550 = file_id.variables['AOD550'][:]\n",
    "lat = file_id.variables['Latitude'][:]\n",
    "lon = file_id.variables['Longitude'][:]"
   ]
  },
  {
   "cell_type": "markdown",
   "metadata": {
    "slideshow": {
     "slide_type": "slide"
    }
   },
   "source": [
    "# Exercise: Import netCDF file and perform basic analsys\n",
    "From the data folder, import \"JRR-AOD_v1r1_npp_s201808091958446_e201808092000088_c201808092051450.nc\""
   ]
  },
  {
   "cell_type": "markdown",
   "metadata": {},
   "source": [
    "## Closing up\n",
    "We'll be around for the next 30 minutes and I am available by email: rebekah.esmaili@gmail.com\n",
    "\n",
    "When we started, we stated that our goals were to: \n",
    "\n",
    "Objective: working with satellite datasets\n",
    "* You won't learn how to code in Python\n",
    "\t* Some (free!) ways to learn: [automate boring stuff](Automate the Boring Stuff with Python), [codeacademy](https://www.codecademy.com/learn/learn-python), [find Meetups](https://www.meetup.com/find/tech/) or start your own!\n",
    "* You will learn to:\n",
    "\t* Read/write satellite datasets\n",
    "\t* Plot datasets\n",
    "\t* Perform re-gridding, merging, averaging, filtering\n",
    "\n",
    "How did we deliver? Please fill out survey!\n",
    "\n",
    "Next session: Friday, Nov 9th 9:30-11:30am"
   ]
  },
  {
   "cell_type": "markdown",
   "metadata": {},
   "source": [
    "## Thank you!\n",
    "I hope you enjoyed this crash course in python in remote sensing applications! Please fill out feedback, write as much as you can!"
   ]
  }
 ],
 "metadata": {
  "celltoolbar": "Slideshow",
  "kernelspec": {
   "display_name": "Python 3",
   "language": "python",
   "name": "python3"
  },
  "language_info": {
   "codemirror_mode": {
    "name": "ipython",
    "version": 3
   },
   "file_extension": ".py",
   "mimetype": "text/x-python",
   "name": "python",
   "nbconvert_exporter": "python",
   "pygments_lexer": "ipython3",
   "version": "3.6.6"
  }
 },
 "nbformat": 4,
 "nbformat_minor": 2
}
