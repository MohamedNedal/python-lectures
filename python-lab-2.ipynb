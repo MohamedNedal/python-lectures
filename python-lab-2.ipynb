{
 "cells": [
  {
   "cell_type": "markdown",
   "metadata": {
    "slideshow": {
     "slide_type": "slide"
    }
   },
   "source": [
    "# Python Lesson 2: Remote Sensing Applications\n",
    "\n",
    "![](img/day2.jpg)\n",
    "\n",
    "Rebekah Esmaili (STAR/IMSG)\n",
    "\n",
    "[rebekah.esmaili@gmail.com](mailto:rebekah.esmaili@gmail.com)\n",
    "\n",
    "Code, Data, and Installation Guide: [https://ter.ps/noaapy](https://ter.ps/noaapy)"
   ]
  },
  {
   "cell_type": "markdown",
   "metadata": {
    "slideshow": {
     "slide_type": "slide"
    }
   },
   "source": [
    "## Agenda\n",
    "1. Creating maps using Cartopy\n",
    "2. Importing netCDF datasets and attributes\n",
    "3. Common map-related remote sensing tasks\n"
   ]
  },
  {
   "cell_type": "markdown",
   "metadata": {
    "slideshow": {
     "slide_type": "slide"
    }
   },
   "source": [
    "## Objective: working with satellite datasets\n",
    "\n",
    "* You won't learn how to code in Python\n",
    "* You will learn to:\n",
    "\t* Read/write netCDF datasets\n",
    "\t* Plotting and visualizing the data\n",
    "\t* Perform re-gridding, merging, averaging, filtering"
   ]
  },
  {
   "cell_type": "markdown",
   "metadata": {
    "slideshow": {
     "slide_type": "slide"
    }
   },
   "source": [
    "# Recap on Packages\n",
    "Packages give us additional functionality, saving us the trouble of writing procedures ourselves. \n",
    "\n",
    "Primary libraries from the last session...\n",
    "* [NumPy](http://www.numpy.org/) Fast mathemtatical operations on large datasets.\n",
    "* [Pandas](https://pandas.pydata.org) Encapsulation of data, easy read/write of ascii data. Builds extra functionality on top of NumPy.\n",
    "* [Matplotlib](https://matplotlib.org) Primarily python plotting/visualization package. You can generate plots, histograms, scatterplots, etc., with just a few lines of code."
   ]
  },
  {
   "cell_type": "code",
   "execution_count": null,
   "metadata": {
    "slideshow": {
     "slide_type": "subslide"
    }
   },
   "outputs": [],
   "source": [
    "import pandas as pd\n",
    "import numpy as np\n",
    "from matplotlib import pyplot as plt\n",
    "\n",
    "# Options to print figures into notebook/increase size\n",
    "%matplotlib inline\n",
    "plt.rcParams['figure.figsize'] = [12, 6]\n",
    "plt.rcParams.update({'font.size': 16})"
   ]
  },
  {
   "cell_type": "markdown",
   "metadata": {
    "slideshow": {
     "slide_type": "slide"
    }
   },
   "source": [
    "### Looking at real in-situ data: AERONET\n",
    "* Aerosols are particles suspended in the atmosphere, including dust, sea salt, volcanic ash, smoke, and pollution.\n",
    "* Aerosol Optical Depth (AOD) is a unitless measure of the amount of aerosols in the atmosphere.\n",
    "* AERONET (AErosol RObotic NETwork) stations provide in-situ AOD observations."
   ]
  },
  {
   "cell_type": "code",
   "execution_count": null,
   "metadata": {
    "slideshow": {
     "slide_type": "subslide"
    }
   },
   "outputs": [],
   "source": [
    "# Bring back our list of aeronet stations...\n",
    "fname = 'data/aeronet_locations_v3.txt'\n",
    "stationList = pd.read_csv(fname, skiprows=1)\n",
    "stationList.columns = ['site', 'lon', 'lat', 'elev']"
   ]
  },
  {
   "cell_type": "markdown",
   "metadata": {
    "slideshow": {
     "slide_type": "slide"
    }
   },
   "source": [
    "## Basemap is dead &rarr; Use [Cartopy](https://scitools.org.uk/cartopy/)\n",
    "* Cartopy is not included in Anaconda, need to install yourself.\n",
    "\n",
    "Open the terminal (Mac/Linix) or Anaconda Prompt (Windows) and type:\n",
    "```python\n",
    "conda install -c conda-forge cartopy\n",
    "```\n",
    "* Rather than import all of Cartopy, we just want the projection classes to pair with matplot lib.\n",
    "* More [map projections](https://scitools.org.uk/cartopy/docs/latest/crs/projections.html)."
   ]
  },
  {
   "cell_type": "code",
   "execution_count": null,
   "metadata": {
    "slideshow": {
     "slide_type": "subslide"
    }
   },
   "outputs": [],
   "source": [
    "from cartopy import crs as ccrs"
   ]
  },
  {
   "cell_type": "code",
   "execution_count": null,
   "metadata": {
    "slideshow": {
     "slide_type": "subslide"
    }
   },
   "outputs": [],
   "source": [
    "# Center on the Atlantic\n",
    "ax = plt.axes(projection=ccrs.PlateCarree(central_longitude=-180))\n",
    "ax.coastlines()\n",
    "plt.scatter(stationList['lon']-180, stationList['lat'], color='blue', s=1)\n",
    "plt.show()"
   ]
  },
  {
   "cell_type": "markdown",
   "metadata": {
    "slideshow": {
     "slide_type": "slide"
    }
   },
   "source": [
    "<div class=\"alert alert-block alert-info\">\n",
    "\n",
    "# Exercise 1\n",
    "\n",
    "* Import aeronet_locations_v3.txt with read_csv\n",
    "* Define the map axes using with option projection=ccrs.PlateCarree()\n",
    "* Add coastlines\n",
    "* Make a scatter plot of the station locations\n",
    "* Don't forget to show the plot!\n",
    "\n",
    "* Challenge: Shift the plot to center on -180 using ccrs.PlateCarree(central_longitude=-180)\n",
    "</div>"
   ]
  },
  {
   "cell_type": "code",
   "execution_count": null,
   "metadata": {
    "slideshow": {
     "slide_type": "subslide"
    }
   },
   "outputs": [],
   "source": [
    "# Solution: Center on the Pacific (note the shift in the station longitude as well!)\n",
    "ax = plt.axes(projection=ccrs.PlateCarree(central_longitude=-180))\n",
    "ax.coastlines()\n",
    "plt.scatter(stationList['lon']-180, stationList['lat'], color='red', s=1)\n",
    "plt.show()"
   ]
  },
  {
   "cell_type": "markdown",
   "metadata": {
    "slideshow": {
     "slide_type": "slide"
    }
   },
   "source": [
    "# Examining the 2018 California Wildfires from Space\n",
    "\n",
    "* 6,870 fires had burned over a 6,000 km${^2}$ area. \n",
    "* The smoke from the wildfires also had an impact on air quality both in proximity of the fires as well as across the country.\n",
    "* We'll look at satellite observations from JPSS and GOES-16 to show the impact of the California wildfires on AOD."
   ]
  },
  {
   "cell_type": "markdown",
   "metadata": {
    "slideshow": {
     "slide_type": "slide"
    }
   },
   "source": [
    "### LEO Example: Suomi-NPP\n",
    "LEO Satellites orbit the earth many times a day, data are oganized in 2 minute swaths per file.\n"
   ]
  },
  {
   "cell_type": "markdown",
   "metadata": {
    "slideshow": {
     "slide_type": "slide"
    }
   },
   "source": [
    "## Recap on netCDF4\n",
    "\n",
    "netCDF files organize data into groups, which are organized like directories in a filesystem. The groups are containers for variables, dimensions and attributes. \n",
    "\n",
    "The netCDF4 package is included in Anaconda Python. The main function is Dataset, which reads from an existing file:\n",
    "```\n",
    "file_id = Dataset(\"test.nc\", \"r\", format=\"NETCDF4\")\n",
    "```\n",
    "You can choose to 'w' (write), 'r' (read), or 'a'\n",
    "\n",
    "The foramts can be: NETCDF3_CLASSIC, NETCDF3_64BIT_OFFSET, NETCDF3_64BIT_DATA, NETCDF4_CLASSIC, and NETCDF4 (default)"
   ]
  },
  {
   "cell_type": "code",
   "execution_count": null,
   "metadata": {
    "slideshow": {
     "slide_type": "subslide"
    }
   },
   "outputs": [],
   "source": [
    "from netCDF4 import Dataset"
   ]
  },
  {
   "cell_type": "code",
   "execution_count": null,
   "metadata": {
    "slideshow": {
     "slide_type": "subslide"
    }
   },
   "outputs": [],
   "source": [
    "# Import your data...\n",
    "file_id_NPP = Dataset('data/JRR-AOD_v1r1_npp_s201808091957192_e201808091958434_c201808092051240.nc')\n",
    "\n",
    "# Print a list of variables\n",
    "print(file_id_NPP.variables.keys())"
   ]
  },
  {
   "cell_type": "code",
   "execution_count": null,
   "metadata": {
    "slideshow": {
     "slide_type": "subslide"
    }
   },
   "outputs": [],
   "source": [
    "AOD_NPP = file_id_NPP.variables['AOD550'][:,:]\n",
    "lat_NPP = file_id_NPP.variables['Latitude'][:,:]\n",
    "lon_NPP = file_id_NPP.variables['Longitude'][:,:]"
   ]
  },
  {
   "cell_type": "code",
   "execution_count": null,
   "metadata": {
    "slideshow": {
     "slide_type": "subslide"
    }
   },
   "outputs": [],
   "source": [
    "# levs = np.arange(0, 1.8, 0.1)\n",
    "# Using cartopy, create the map projection and plot the data\n",
    "ax = plt.axes(projection=ccrs.PlateCarree())\n",
    "plt.contourf(lon_NPP, lat_NPP, AOD_NPP, transform=ccrs.PlateCarree())\n",
    "ax.coastlines()\n",
    "plt.colorbar()\n",
    "plt.show()"
   ]
  },
  {
   "cell_type": "markdown",
   "metadata": {
    "slideshow": {
     "slide_type": "slide"
    }
   },
   "source": [
    "<div class=\"alert alert-block alert-info\">\n",
    "\n",
    "# Exercise 2 \n",
    "\n",
    "??? = Fill in the blanks!\n",
    "\n",
    "## Import from netCDF files\n",
    "\n",
    "* Import JRR-AOD_v1r1_npp_s201808091957192_e201808091958434_c201808092051240.nc using the Dataset command.\n",
    "* Inpect the available variables.\n",
    "* Save the latitude, longitude, and AOD to arrays.\n",
    "\n",
    "## Create a cartopy plot\n",
    "\n",
    "* Define the axes, including the projection. \n",
    "    * Challenge: Make an ortographic plot using: ccrs.Orthographic(central_longitude=-75.0, central_latitude=0.0)\n",
    "* Create a plot using plt.contourf(???, ???, ???, transform=ccrs.???)\n",
    "    * Challenge: Change the data scale from the default to 0.0-1.8\n",
    "* Remember to plt.show() at the end to display!\n",
    "\n",
    "</div>"
   ]
  },
  {
   "cell_type": "markdown",
   "metadata": {
    "slideshow": {
     "slide_type": "slide"
    }
   },
   "source": [
    "## Common tasks\n",
    "1. Regridding\n",
    "2. Masking datasets\n",
    "3. Filtering with Quality Flags"
   ]
  },
  {
   "cell_type": "markdown",
   "metadata": {
    "slideshow": {
     "slide_type": "slide"
    }
   },
   "source": [
    "### Regridding\n",
    "\n",
    "There are a few options:\n",
    "\n",
    "* Interpolate using griddata from SciPy package\n",
    "* Regridding in iris package (autodetection of GRIB and NC fileformats... if they follow the conventions!)\n",
    "* ESMF which is a wrapper for xarray (Unix only and kind of new)"
   ]
  },
  {
   "cell_type": "markdown",
   "metadata": {
    "slideshow": {
     "slide_type": "slide"
    }
   },
   "source": [
    "### griddata syntax\n",
    "\n",
    "new values = griddata( old points, old values, new points, method='linear')\n",
    "\n",
    "* All values need to be __1D__ but all of our data so far is 2D\n",
    "* Need to flatten the data\n",
    "* interpolation options: 'nearest', ‘linear’, ‘cubic’"
   ]
  },
  {
   "cell_type": "code",
   "execution_count": null,
   "metadata": {
    "slideshow": {
     "slide_type": "subslide"
    }
   },
   "outputs": [],
   "source": [
    "from scipy.interpolate import griddata"
   ]
  },
  {
   "cell_type": "code",
   "execution_count": null,
   "metadata": {
    "slideshow": {
     "slide_type": "subslide"
    }
   },
   "outputs": [],
   "source": [
    "# Existing grid/values\n",
    "lon=np.array(lon_NPP).flatten()\n",
    "lat=np.array(lat_NPP).flatten()\n",
    "\n",
    "# Convert to numpy array, then you must flatten the 2D array into a 1D array\n",
    "inpoints = (lon, lat)\n",
    "invalues = np.array(AOD_NPP).flatten()"
   ]
  },
  {
   "cell_type": "code",
   "execution_count": null,
   "metadata": {
    "slideshow": {
     "slide_type": "subslide"
    }
   },
   "outputs": [],
   "source": [
    "# Create a new grid at 0.1 degree resolution\n",
    "x = np.arange(lon_NPP.min(), lon_NPP.max(), 0.1)\n",
    "y = np.arange(lat_NPP.min(), lat_NPP.max(), 0.1)\n",
    "newLon, newLat = np.meshgrid(x,y)"
   ]
  },
  {
   "cell_type": "code",
   "execution_count": null,
   "metadata": {
    "slideshow": {
     "slide_type": "subslide"
    }
   },
   "outputs": [],
   "source": [
    "# Then flatten...\n",
    "outpoints = (newLon.flatten(), newLat.flatten())"
   ]
  },
  {
   "cell_type": "code",
   "execution_count": null,
   "metadata": {
    "slideshow": {
     "slide_type": "subslide"
    }
   },
   "outputs": [],
   "source": [
    "# Using linear method\n",
    "outvalues = griddata(inpoints, invalues, outpoints, method='linear')"
   ]
  },
  {
   "cell_type": "code",
   "execution_count": null,
   "metadata": {
    "slideshow": {
     "slide_type": "subslide"
    }
   },
   "outputs": [],
   "source": [
    "# Unflatten with re-shape\n",
    "originalShape = newLon.shape\n",
    "newAOD = outvalues.reshape(originalShape)\n",
    "newLon = outpoints[0].reshape(originalShape)\n",
    "newLat = outpoints[1].reshape(originalShape)"
   ]
  },
  {
   "cell_type": "code",
   "execution_count": null,
   "metadata": {
    "slideshow": {
     "slide_type": "subslide"
    }
   },
   "outputs": [],
   "source": [
    "# To compare: Putting two plots together using plt.subplot\n",
    "plt.subplot(1,2,1)\n",
    "plt.title(\"Before regridding\")\n",
    "plt.pcolormesh(lon_NPP, lat_NPP, AOD_NPP, vmin=0, vmax=1)\n",
    "\n",
    "plt.subplot(1,2,2)\n",
    "plt.pcolormesh(newLon, newLat, newAOD, vmin=0, vmax=1)\n",
    "plt.title(\"After regridding\")\n",
    "plt.show()"
   ]
  },
  {
   "cell_type": "markdown",
   "metadata": {
    "slideshow": {
     "slide_type": "slide"
    }
   },
   "source": [
    "### Masking Datasets\n",
    "\n",
    "May want to add a land/ocean mask to our datasets"
   ]
  },
  {
   "cell_type": "code",
   "execution_count": null,
   "metadata": {
    "slideshow": {
     "slide_type": "subslide"
    }
   },
   "outputs": [],
   "source": [
    "import cartopy.feature as feature"
   ]
  },
  {
   "cell_type": "code",
   "execution_count": null,
   "metadata": {
    "slideshow": {
     "slide_type": "subslide"
    }
   },
   "outputs": [],
   "source": [
    "ax = plt.axes(projection=ccrs.PlateCarree())\n",
    "ax.coastlines()\n",
    "plot = ax.contourf(lon_NPP, lat_NPP, AOD_NPP, transform=ccrs.PlateCarree())\n",
    "\n",
    "# Mask out the ocean: zorder places it on top of the existing data\n",
    "ax.add_feature(feature.OCEAN, zorder=100, edgecolor='black')\n",
    "\n",
    "cb = plt.colorbar(plot)\n",
    "plt.show()"
   ]
  },
  {
   "cell_type": "markdown",
   "metadata": {
    "slideshow": {
     "slide_type": "slide"
    }
   },
   "source": [
    "### GEO Example: GOES-17\n",
    "* Larger imagery (42% of earth), can take a while to load.\n",
    "* Using CONUS datasets, but Full Disk Imagery is also available\n",
    "\n",
    "### Un-scaling the data\n",
    "* Data are often scaled integers to save disk space\n",
    "* If the netCDF file is formatted properly, Python will unscale the data for you!"
   ]
  },
  {
   "cell_type": "markdown",
   "metadata": {
    "slideshow": {
     "slide_type": "subslide"
    }
   },
   "source": [
    "# Your legal disclaimer...\n",
    "\"These GOES-17 data are preliminary, non-operational data and are undergoing testing. Users bear all responsibility for inspecting the data prior to use and for the manner in which the data are utilized.\""
   ]
  },
  {
   "cell_type": "code",
   "execution_count": null,
   "metadata": {
    "slideshow": {
     "slide_type": "subslide"
    }
   },
   "outputs": [],
   "source": [
    "file_id_G17 = Dataset('data/OR_ABI-L2-AODC-M3_G17_s20182211612186_e20182211614557_c20182211615551.nc')\n",
    "var = file_id_G17.variables['AOD'][:,:]\n",
    "AOD_G17 = np.array(var)"
   ]
  },
  {
   "cell_type": "code",
   "execution_count": null,
   "metadata": {},
   "outputs": [],
   "source": [
    "# Where in the world is... latitude and longitude??\n",
    "list(file_id_G17.variables.keys())"
   ]
  },
  {
   "cell_type": "markdown",
   "metadata": {
    "slideshow": {
     "slide_type": "subslide"
    }
   },
   "source": [
    "### Georeferencing the data\n",
    "\n",
    "* GOES makes fixed observations, so the Full Disk and CONUS files do not contain the lat/lon coordinates to save disc space (Mesoscale does contain lat/lon since the position changes).\n",
    "* For the details on unscaling the geoference data (e.g. x, y &rarr; lon, lat), see the GOES-16 ATBD.\n",
    "* For now, I provide the look-up tables so don't worry :-)"
   ]
  },
  {
   "cell_type": "code",
   "execution_count": null,
   "metadata": {
    "slideshow": {
     "slide_type": "subslide"
    }
   },
   "outputs": [],
   "source": [
    "# Import lat/lon from look-up table (code is on GitHub if you want to make your own)\n",
    "file_id_geo = Dataset('data/latlon_L2_G17_CONUS_89W.nc')\n",
    "lat_G17 = file_id_geo.variables['latitude'][:,:]\n",
    "lon_G17 = file_id_geo.variables['longitude'][:,:]"
   ]
  },
  {
   "cell_type": "code",
   "execution_count": null,
   "metadata": {
    "slideshow": {
     "slide_type": "subslide"
    }
   },
   "outputs": [],
   "source": [
    "# Then you can plot just like before (this is a little slow):\n",
    "ax = plt.axes(projection=ccrs.PlateCarree())\n",
    "plt.contourf(lon_G17, lat_G17, AOD_G17, levs, transform=ccrs.PlateCarree())\n",
    "ax.coastlines()\n",
    "plt.colorbar()\n",
    "plt.show()"
   ]
  },
  {
   "cell_type": "markdown",
   "metadata": {
    "slideshow": {
     "slide_type": "slide"
    }
   },
   "source": [
    "### Filtering\n",
    "\n",
    "* Remote sensing datasets commonly have \"quality flags\" to inform the user of uncertainly in the results.\n",
    "* If your model or analysis is highly sensitive to the inputs, you should only use the __best quality__ data\n",
    "* Quality flags are usually specified on a integer scale:\n",
    "    * 0: Best\n",
    "    * 1: Medium\n",
    "    * 2: Low\n",
    "    * 3: No retrieval"
   ]
  },
  {
   "cell_type": "code",
   "execution_count": null,
   "metadata": {
    "slideshow": {
     "slide_type": "subslide"
    }
   },
   "outputs": [],
   "source": [
    "# Import quality flag\n",
    "dqf = file_id_G17.variables['DQF'][:,:]\n",
    "\n",
    "# Keep all but the \"best\" quality using masked arrays\n",
    "maskHQ = (dqf != 0)\n",
    "AOD_G17_HQ = np.ma.masked_where(maskHQ, AOD_G17)"
   ]
  },
  {
   "cell_type": "code",
   "execution_count": null,
   "metadata": {
    "slideshow": {
     "slide_type": "subslide"
    }
   },
   "outputs": [],
   "source": [
    "# Re-plot only the \"high quality\" data\n",
    "ax = plt.axes(projection=ccrs.PlateCarree())\n",
    "plt.contourf(lon_G17, lat_G17, AOD_G17_HQ, levs, transform=ccrs.PlateCarree())\n",
    "ax.coastlines()\n",
    "plt.colorbar()\n",
    "plt.show()"
   ]
  },
  {
   "cell_type": "markdown",
   "metadata": {
    "slideshow": {
     "slide_type": "slide"
    }
   },
   "source": [
    "<div class=\"alert alert-block alert-info\">\n",
    "\n",
    "# Exercise 3\n",
    "\n",
    "* Filter your plot in Exercise 2 by data quality using the variable 'QCAll'\n",
    "* Import QCAll into a variable\n",
    "* Create a mask for medium/low quality data or pixels with no retrieval\n",
    "* Make a new map with the filtered data\n",
    "\n",
    "</div>"
   ]
  },
  {
   "cell_type": "code",
   "execution_count": null,
   "metadata": {},
   "outputs": [],
   "source": [
    "dqfNPP = file_id_NPP.variables['QCAll'][:,:]\n",
    "\n",
    "maskHQnpp = (dqfNPP != 0)\n",
    "AOD_NPP_HQ = np.ma.masked_where(maskHQnpp, AOD_NPP)"
   ]
  },
  {
   "cell_type": "code",
   "execution_count": null,
   "metadata": {},
   "outputs": [],
   "source": [
    "ax = plt.axes(projection=ccrs.PlateCarree())\n",
    "plt.contourf(lon_NPP, lat_NPP, AOD_NPP_HQ, levs, transform=ccrs.PlateCarree())\n",
    "ax.coastlines()\n",
    "plt.colorbar()\n",
    "plt.show()"
   ]
  },
  {
   "cell_type": "markdown",
   "metadata": {
    "slideshow": {
     "slide_type": "slide"
    }
   },
   "source": [
    "## Saving results\n",
    "\n",
    "### Saving arrays or pandas dataframes\n",
    "\n",
    "* I recommend using npz.save(), which will save it in a python-friendly binary format\n",
    "* Allows faster read later, but cannot visually inspect the files"
   ]
  },
  {
   "cell_type": "code",
   "execution_count": null,
   "metadata": {
    "slideshow": {
     "slide_type": "subslide"
    }
   },
   "outputs": [],
   "source": [
    "np.savez(\"station_list\", stationList)"
   ]
  },
  {
   "cell_type": "markdown",
   "metadata": {
    "slideshow": {
     "slide_type": "slide"
    }
   },
   "source": [
    "### Saving as netCDF\n",
    "* Steps are similar to how you open the file\n",
    "* Try to follow [climate and forecast conventions](https://www.unidata.ucar.edu/software/netcdf/conventions.html)"
   ]
  },
  {
   "cell_type": "code",
   "execution_count": null,
   "metadata": {
    "slideshow": {
     "slide_type": "subslide"
    }
   },
   "outputs": [],
   "source": [
    "# Open the dataset in \"write mode\"\n",
    "rootgrp = Dataset('viirs-AOD', \"w\", format=\"NETCDF4\")\n",
    "\n",
    "varShape = lat_NPP.shape\n",
    "\n",
    "# Define the coordinates\n",
    "latnc = rootgrp.createDimension(\"lat\", varShape.shape[0])\n",
    "lonnc = rootgrp.createDimension(\"lon\", varShape.shape[1])"
   ]
  },
  {
   "cell_type": "code",
   "execution_count": null,
   "metadata": {
    "slideshow": {
     "slide_type": "subslide"
    }
   },
   "outputs": [],
   "source": [
    "# Create the latitude and longitude variables\n",
    "latitudes = rootgrp.createVariable(\"latitude\",\"f4\",(\"lat\",\"lon\"), \\\n",
    "    zlib=True, least_significant_digit=2)\n",
    "longitudes = rootgrp.createVariable(\"longitude\",\"f4\",(\"lat\",\"lon\"), \\\n",
    "    zlib=True, least_significant_digit=2)\n",
    "\n",
    "# Create the groupname for the variable\n",
    "variable = rootgrp.createVariable('AOD550', 'f4',(\"lat\",\"lon\"), \\\n",
    "    zlib = True, fill_value = -999.0)"
   ]
  },
  {
   "cell_type": "code",
   "execution_count": null,
   "metadata": {
    "slideshow": {
     "slide_type": "subslide"
    }
   },
   "outputs": [],
   "source": [
    "# Fill in some Metadata\n",
    "rootgrp.description = \"High quality VIIRS AOD\"\n",
    "latitudes.units = \"degrees_north\"\n",
    "longitudes.units = \"degrees_east\"\n",
    "variable.long_name = \"Aerosol Optical Depth\""
   ]
  },
  {
   "cell_type": "code",
   "execution_count": null,
   "metadata": {
    "slideshow": {
     "slide_type": "subslide"
    }
   },
   "outputs": [],
   "source": [
    "# Finally, fill in the variables\n",
    "variable[:,:] = AOD_NPP_HQ\n",
    "latitudes[:,:] = lat_NPP\n",
    "longitudes[:,:] = lon_NPP"
   ]
  },
  {
   "cell_type": "code",
   "execution_count": null,
   "metadata": {
    "slideshow": {
     "slide_type": "subslide"
    }
   },
   "outputs": [],
   "source": [
    "# If you do not close, the file will not be usable!\n",
    "rootgrp.close()"
   ]
  },
  {
   "cell_type": "markdown",
   "metadata": {
    "slideshow": {
     "slide_type": "slide"
    }
   },
   "source": [
    "## Scripting\n",
    "\n",
    "* Notebooks are nice for sharing results with others, but scripts are useful for automating tasks.\n",
    "* To make a script, copy code into a [filename].py file with the following shebang:\n",
    "```python\n",
    "#!/usr/bin/env python\n",
    "```\n",
    "\n",
    "Then to call the script, open the terminal, check the file permissions, and simply type:\n",
    "```python\n",
    "python rgb.py\n",
    "```\n",
    "On Windows, you'll need to run the scripts through the Anaconda Prompt.\n"
   ]
  },
  {
   "cell_type": "markdown",
   "metadata": {
    "slideshow": {
     "slide_type": "slide"
    }
   },
   "source": [
    "## Closing up\n",
    "I am available by email: rebekah.esmaili@gmail.com\n",
    "\n",
    "* Some (free!) ways to learn:\n",
    "    * [CS Dojo](https://www.youtube.com/watch?v=Z1Yd7upQsXY&list=PLBZBJbE_rGRWeh5mIBhD-hhDwSEDxogDg) Youtube series for absolute beginners\n",
    "    * [Automate boring stuff](https://automatetheboringstuff.com)\n",
    "    * [Codeacademy](https://www.codecademy.com/learn/learn-python)\n",
    "    * [Local Meetups](https://www.meetup.com/find/tech/)\n",
    "    * Start your own NOAA Python Club!\n",
    "\n",
    "* Advanced resources:\n",
    "    * [PyTroll](http://pytroll.github.io) framework for the processing of earth observation satellite data\n",
    "    * [Unidata AWIPS Python tutorial](http://unidata.github.io/awips2/python/satellite-imagery/)\n",
    "    * [Workshop on developing Python frameworks for earth system sciences](https://www.ecmwf.int/en/learning/workshops/2018-workshop-developing-python-frameworks-earth-system-sciences)\n",
    "\n",
    "\n",
    "## Thank you!\n",
    "I hope you enjoyed this crash course in python in remote sensing applications! Please fill out the feedback survey!"
   ]
  }
 ],
 "metadata": {
  "celltoolbar": "Slideshow",
  "kernelspec": {
   "display_name": "Python 3",
   "language": "python",
   "name": "python3"
  },
  "language_info": {
   "codemirror_mode": {
    "name": "ipython",
    "version": 3
   },
   "file_extension": ".py",
   "mimetype": "text/x-python",
   "name": "python",
   "nbconvert_exporter": "python",
   "pygments_lexer": "ipython3",
   "version": "3.5.6"
  }
 },
 "nbformat": 4,
 "nbformat_minor": 2
}
